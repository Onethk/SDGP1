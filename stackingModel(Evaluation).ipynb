{
 "cells": [
  {
   "cell_type": "markdown",
   "id": "1cf9ded1",
   "metadata": {},
   "source": [
    "## Import the dataset\n"
   ]
  },
  {
   "cell_type": "code",
   "execution_count": 35,
   "id": "fda612ea",
   "metadata": {},
   "outputs": [],
   "source": [
    "import pandas as pd\n",
    "import numpy as np\n",
    "import matplotlib.pyplot as plt\n",
    "import seaborn as snsa\n",
    "from sklearn.metrics import accuracy_score"
   ]
  },
  {
   "cell_type": "code",
   "execution_count": 60,
   "id": "ded25d82",
   "metadata": {},
   "outputs": [],
   "source": [
    "#Dataset is read \n",
    "df = pd.read_csv(\"Final5.csv\")"
   ]
  },
  {
   "cell_type": "code",
   "execution_count": 61,
   "id": "d33cb471",
   "metadata": {},
   "outputs": [],
   "source": [
    "#Dropping unwanted columns\n",
    "\n",
    "df.drop('HowYouPrepare',axis = 1, inplace = True)\n",
    "#df.drop('Rate yourself',axis = 1, inplace = True)\n",
    "#df.drop('TravelMethod',axis = 1, inplace = True)\n",
    "#df.drop('Gender', axis = 1, inplace = True)"
   ]
  },
  {
   "cell_type": "code",
   "execution_count": 62,
   "id": "0590a903",
   "metadata": {},
   "outputs": [
    {
     "data": {
      "text/html": [
       "<div>\n",
       "<style scoped>\n",
       "    .dataframe tbody tr th:only-of-type {\n",
       "        vertical-align: middle;\n",
       "    }\n",
       "\n",
       "    .dataframe tbody tr th {\n",
       "        vertical-align: top;\n",
       "    }\n",
       "\n",
       "    .dataframe thead th {\n",
       "        text-align: right;\n",
       "    }\n",
       "</style>\n",
       "<table border=\"1\" class=\"dataframe\">\n",
       "  <thead>\n",
       "    <tr style=\"text-align: right;\">\n",
       "      <th></th>\n",
       "      <th>TravelTime</th>\n",
       "      <th>PartTimeJob</th>\n",
       "      <th>Relationship</th>\n",
       "      <th>Father's_education</th>\n",
       "      <th>Mother's_education</th>\n",
       "      <th>StudyHours</th>\n",
       "      <th>AttendenceLecs</th>\n",
       "      <th>Concentrate</th>\n",
       "      <th>Friends</th>\n",
       "      <th>SocialMediaTime</th>\n",
       "      <th>extraCurricular</th>\n",
       "      <th>Marks</th>\n",
       "    </tr>\n",
       "  </thead>\n",
       "  <tbody>\n",
       "    <tr>\n",
       "      <th>0</th>\n",
       "      <td>3</td>\n",
       "      <td>0</td>\n",
       "      <td>0</td>\n",
       "      <td>1</td>\n",
       "      <td>1</td>\n",
       "      <td>2</td>\n",
       "      <td>1</td>\n",
       "      <td>1</td>\n",
       "      <td>1</td>\n",
       "      <td>3</td>\n",
       "      <td>1</td>\n",
       "      <td>80 to 89</td>\n",
       "    </tr>\n",
       "    <tr>\n",
       "      <th>1</th>\n",
       "      <td>3</td>\n",
       "      <td>0</td>\n",
       "      <td>1</td>\n",
       "      <td>1</td>\n",
       "      <td>2</td>\n",
       "      <td>3</td>\n",
       "      <td>1</td>\n",
       "      <td>1</td>\n",
       "      <td>1</td>\n",
       "      <td>2</td>\n",
       "      <td>1</td>\n",
       "      <td>80 to 89</td>\n",
       "    </tr>\n",
       "    <tr>\n",
       "      <th>2</th>\n",
       "      <td>4</td>\n",
       "      <td>0</td>\n",
       "      <td>0</td>\n",
       "      <td>3</td>\n",
       "      <td>2</td>\n",
       "      <td>2</td>\n",
       "      <td>2</td>\n",
       "      <td>1</td>\n",
       "      <td>0</td>\n",
       "      <td>3</td>\n",
       "      <td>0</td>\n",
       "      <td>60 to 69</td>\n",
       "    </tr>\n",
       "    <tr>\n",
       "      <th>3</th>\n",
       "      <td>3</td>\n",
       "      <td>0</td>\n",
       "      <td>1</td>\n",
       "      <td>1</td>\n",
       "      <td>2</td>\n",
       "      <td>4</td>\n",
       "      <td>1</td>\n",
       "      <td>1</td>\n",
       "      <td>1</td>\n",
       "      <td>2</td>\n",
       "      <td>1</td>\n",
       "      <td>80 to 89</td>\n",
       "    </tr>\n",
       "    <tr>\n",
       "      <th>4</th>\n",
       "      <td>2</td>\n",
       "      <td>0</td>\n",
       "      <td>0</td>\n",
       "      <td>2</td>\n",
       "      <td>1</td>\n",
       "      <td>2</td>\n",
       "      <td>2</td>\n",
       "      <td>1</td>\n",
       "      <td>0</td>\n",
       "      <td>4</td>\n",
       "      <td>0</td>\n",
       "      <td>70 to 79</td>\n",
       "    </tr>\n",
       "    <tr>\n",
       "      <th>...</th>\n",
       "      <td>...</td>\n",
       "      <td>...</td>\n",
       "      <td>...</td>\n",
       "      <td>...</td>\n",
       "      <td>...</td>\n",
       "      <td>...</td>\n",
       "      <td>...</td>\n",
       "      <td>...</td>\n",
       "      <td>...</td>\n",
       "      <td>...</td>\n",
       "      <td>...</td>\n",
       "      <td>...</td>\n",
       "    </tr>\n",
       "    <tr>\n",
       "      <th>373</th>\n",
       "      <td>1</td>\n",
       "      <td>0</td>\n",
       "      <td>0</td>\n",
       "      <td>1</td>\n",
       "      <td>2</td>\n",
       "      <td>1</td>\n",
       "      <td>2</td>\n",
       "      <td>1</td>\n",
       "      <td>1</td>\n",
       "      <td>3</td>\n",
       "      <td>0</td>\n",
       "      <td>90 to 100</td>\n",
       "    </tr>\n",
       "    <tr>\n",
       "      <th>374</th>\n",
       "      <td>4</td>\n",
       "      <td>1</td>\n",
       "      <td>1</td>\n",
       "      <td>1</td>\n",
       "      <td>2</td>\n",
       "      <td>4</td>\n",
       "      <td>2</td>\n",
       "      <td>1</td>\n",
       "      <td>1</td>\n",
       "      <td>1</td>\n",
       "      <td>1</td>\n",
       "      <td>90 to 100</td>\n",
       "    </tr>\n",
       "    <tr>\n",
       "      <th>375</th>\n",
       "      <td>3</td>\n",
       "      <td>0</td>\n",
       "      <td>0</td>\n",
       "      <td>2</td>\n",
       "      <td>2</td>\n",
       "      <td>3</td>\n",
       "      <td>2</td>\n",
       "      <td>1</td>\n",
       "      <td>1</td>\n",
       "      <td>2</td>\n",
       "      <td>1</td>\n",
       "      <td>90 to 100</td>\n",
       "    </tr>\n",
       "    <tr>\n",
       "      <th>376</th>\n",
       "      <td>1</td>\n",
       "      <td>1</td>\n",
       "      <td>1</td>\n",
       "      <td>2</td>\n",
       "      <td>2</td>\n",
       "      <td>2</td>\n",
       "      <td>1</td>\n",
       "      <td>1</td>\n",
       "      <td>1</td>\n",
       "      <td>2</td>\n",
       "      <td>1</td>\n",
       "      <td>90 to 100</td>\n",
       "    </tr>\n",
       "    <tr>\n",
       "      <th>377</th>\n",
       "      <td>4</td>\n",
       "      <td>1</td>\n",
       "      <td>1</td>\n",
       "      <td>1</td>\n",
       "      <td>2</td>\n",
       "      <td>4</td>\n",
       "      <td>2</td>\n",
       "      <td>1</td>\n",
       "      <td>1</td>\n",
       "      <td>1</td>\n",
       "      <td>1</td>\n",
       "      <td>90 to 100</td>\n",
       "    </tr>\n",
       "  </tbody>\n",
       "</table>\n",
       "<p>378 rows × 12 columns</p>\n",
       "</div>"
      ],
      "text/plain": [
       "     TravelTime  PartTimeJob  Relationship  Father's_education  \\\n",
       "0             3            0             0                   1   \n",
       "1             3            0             1                   1   \n",
       "2             4            0             0                   3   \n",
       "3             3            0             1                   1   \n",
       "4             2            0             0                   2   \n",
       "..          ...          ...           ...                 ...   \n",
       "373           1            0             0                   1   \n",
       "374           4            1             1                   1   \n",
       "375           3            0             0                   2   \n",
       "376           1            1             1                   2   \n",
       "377           4            1             1                   1   \n",
       "\n",
       "     Mother's_education  StudyHours  AttendenceLecs  Concentrate  Friends  \\\n",
       "0                     1           2               1            1        1   \n",
       "1                     2           3               1            1        1   \n",
       "2                     2           2               2            1        0   \n",
       "3                     2           4               1            1        1   \n",
       "4                     1           2               2            1        0   \n",
       "..                  ...         ...             ...          ...      ...   \n",
       "373                   2           1               2            1        1   \n",
       "374                   2           4               2            1        1   \n",
       "375                   2           3               2            1        1   \n",
       "376                   2           2               1            1        1   \n",
       "377                   2           4               2            1        1   \n",
       "\n",
       "     SocialMediaTime  extraCurricular      Marks  \n",
       "0                  3                1   80 to 89  \n",
       "1                  2                1   80 to 89  \n",
       "2                  3                0   60 to 69  \n",
       "3                  2                1   80 to 89  \n",
       "4                  4                0   70 to 79  \n",
       "..               ...              ...        ...  \n",
       "373                3                0  90 to 100  \n",
       "374                1                1  90 to 100  \n",
       "375                2                1  90 to 100  \n",
       "376                2                1  90 to 100  \n",
       "377                1                1  90 to 100  \n",
       "\n",
       "[378 rows x 12 columns]"
      ]
     },
     "execution_count": 62,
     "metadata": {},
     "output_type": "execute_result"
    }
   ],
   "source": [
    "df"
   ]
  },
  {
   "cell_type": "code",
   "execution_count": 63,
   "id": "2828d676",
   "metadata": {},
   "outputs": [
    {
     "data": {
      "text/plain": [
       "(378, 12)"
      ]
     },
     "execution_count": 63,
     "metadata": {},
     "output_type": "execute_result"
    }
   ],
   "source": [
    "# Shape of the dataset -> no. of rows=378 & no. of columns=13 (with the mark column)\n",
    "df.shape"
   ]
  },
  {
   "cell_type": "code",
   "execution_count": 64,
   "id": "cb4111d4",
   "metadata": {},
   "outputs": [
    {
     "data": {
      "text/plain": [
       "TravelTime            378\n",
       "PartTimeJob           378\n",
       "Relationship          378\n",
       "Father's_education    378\n",
       "Mother's_education    378\n",
       "StudyHours            378\n",
       "AttendenceLecs        378\n",
       "Concentrate           378\n",
       "Friends               378\n",
       "SocialMediaTime       378\n",
       "extraCurricular       378\n",
       "Marks                 378\n",
       "dtype: int64"
      ]
     },
     "execution_count": 64,
     "metadata": {},
     "output_type": "execute_result"
    }
   ],
   "source": [
    "#Count of the dataset\n",
    "df.count()"
   ]
  },
  {
   "cell_type": "code",
   "execution_count": 65,
   "id": "1dcf24c2",
   "metadata": {},
   "outputs": [
    {
     "data": {
      "text/plain": [
       "TravelTime            0\n",
       "PartTimeJob           0\n",
       "Relationship          0\n",
       "Father's_education    0\n",
       "Mother's_education    0\n",
       "StudyHours            0\n",
       "AttendenceLecs        0\n",
       "Concentrate           0\n",
       "Friends               0\n",
       "SocialMediaTime       0\n",
       "extraCurricular       0\n",
       "Marks                 0\n",
       "dtype: int64"
      ]
     },
     "execution_count": 65,
     "metadata": {},
     "output_type": "execute_result"
    }
   ],
   "source": [
    "#No null values where discovered\n",
    "df.isnull().sum()"
   ]
  },
  {
   "cell_type": "markdown",
   "id": "6b029436",
   "metadata": {},
   "source": [
    "## Visualization"
   ]
  },
  {
   "cell_type": "code",
   "execution_count": 66,
   "id": "4a0dab7c",
   "metadata": {},
   "outputs": [
    {
     "data": {
      "text/plain": [
       "80 to 89     42\n",
       "60 to 69     42\n",
       "70 to 79     42\n",
       "90 to 100    42\n",
       "20 to 29     42\n",
       "50 to 59     42\n",
       "0 to 20      42\n",
       "40 to 49     42\n",
       "30 to 39     42\n",
       "Name: Marks, dtype: int64"
      ]
     },
     "execution_count": 66,
     "metadata": {},
     "output_type": "execute_result"
    }
   ],
   "source": [
    "#No. of data in each mark class\n",
    "df[\"Marks\"].value_counts()"
   ]
  },
  {
   "cell_type": "code",
   "execution_count": 67,
   "id": "ca0cecdd",
   "metadata": {},
   "outputs": [
    {
     "data": {
      "text/plain": [
       "<AxesSubplot:>"
      ]
     },
     "execution_count": 67,
     "metadata": {},
     "output_type": "execute_result"
    },
    {
     "data": {
      "image/png": "[encoded data removed]",
      "text/plain": [
       "<Figure size 640x480 with 1 Axes>"
      ]
     },
     "metadata": {},
     "output_type": "display_data"
    }
   ],
   "source": [
    "#Visualize count\n",
    "df[\"Marks\"].value_counts().plot.bar()"
   ]
  },
  {
   "cell_type": "code",
   "execution_count": 68,
   "id": "b69569d7",
   "metadata": {},
   "outputs": [
    {
     "data": {
      "text/html": [
       "<div>\n",
       "<style scoped>\n",
       "    .dataframe tbody tr th:only-of-type {\n",
       "        vertical-align: middle;\n",
       "    }\n",
       "\n",
       "    .dataframe tbody tr th {\n",
       "        vertical-align: top;\n",
       "    }\n",
       "\n",
       "    .dataframe thead th {\n",
       "        text-align: right;\n",
       "    }\n",
       "</style>\n",
       "<table border=\"1\" class=\"dataframe\">\n",
       "  <thead>\n",
       "    <tr style=\"text-align: right;\">\n",
       "      <th></th>\n",
       "      <th>count</th>\n",
       "      <th>mean</th>\n",
       "      <th>std</th>\n",
       "      <th>min</th>\n",
       "      <th>25%</th>\n",
       "      <th>50%</th>\n",
       "      <th>75%</th>\n",
       "      <th>max</th>\n",
       "    </tr>\n",
       "  </thead>\n",
       "  <tbody>\n",
       "    <tr>\n",
       "      <th>TravelTime</th>\n",
       "      <td>378.0</td>\n",
       "      <td>2.883598</td>\n",
       "      <td>1.071549</td>\n",
       "      <td>1.0</td>\n",
       "      <td>2.0</td>\n",
       "      <td>3.0</td>\n",
       "      <td>4.0</td>\n",
       "      <td>4.0</td>\n",
       "    </tr>\n",
       "    <tr>\n",
       "      <th>PartTimeJob</th>\n",
       "      <td>378.0</td>\n",
       "      <td>0.431217</td>\n",
       "      <td>0.495903</td>\n",
       "      <td>0.0</td>\n",
       "      <td>0.0</td>\n",
       "      <td>0.0</td>\n",
       "      <td>1.0</td>\n",
       "      <td>1.0</td>\n",
       "    </tr>\n",
       "    <tr>\n",
       "      <th>Relationship</th>\n",
       "      <td>378.0</td>\n",
       "      <td>0.417989</td>\n",
       "      <td>0.493882</td>\n",
       "      <td>0.0</td>\n",
       "      <td>0.0</td>\n",
       "      <td>0.0</td>\n",
       "      <td>1.0</td>\n",
       "      <td>1.0</td>\n",
       "    </tr>\n",
       "    <tr>\n",
       "      <th>Father's_education</th>\n",
       "      <td>378.0</td>\n",
       "      <td>1.563492</td>\n",
       "      <td>0.593904</td>\n",
       "      <td>1.0</td>\n",
       "      <td>1.0</td>\n",
       "      <td>2.0</td>\n",
       "      <td>2.0</td>\n",
       "      <td>3.0</td>\n",
       "    </tr>\n",
       "    <tr>\n",
       "      <th>Mother's_education</th>\n",
       "      <td>378.0</td>\n",
       "      <td>1.798942</td>\n",
       "      <td>0.676862</td>\n",
       "      <td>1.0</td>\n",
       "      <td>1.0</td>\n",
       "      <td>2.0</td>\n",
       "      <td>2.0</td>\n",
       "      <td>3.0</td>\n",
       "    </tr>\n",
       "    <tr>\n",
       "      <th>StudyHours</th>\n",
       "      <td>378.0</td>\n",
       "      <td>2.272487</td>\n",
       "      <td>1.120030</td>\n",
       "      <td>1.0</td>\n",
       "      <td>1.0</td>\n",
       "      <td>2.0</td>\n",
       "      <td>3.0</td>\n",
       "      <td>5.0</td>\n",
       "    </tr>\n",
       "    <tr>\n",
       "      <th>AttendenceLecs</th>\n",
       "      <td>378.0</td>\n",
       "      <td>1.542328</td>\n",
       "      <td>0.573099</td>\n",
       "      <td>1.0</td>\n",
       "      <td>1.0</td>\n",
       "      <td>2.0</td>\n",
       "      <td>2.0</td>\n",
       "      <td>3.0</td>\n",
       "    </tr>\n",
       "    <tr>\n",
       "      <th>Concentrate</th>\n",
       "      <td>378.0</td>\n",
       "      <td>1.296296</td>\n",
       "      <td>0.561390</td>\n",
       "      <td>1.0</td>\n",
       "      <td>1.0</td>\n",
       "      <td>1.0</td>\n",
       "      <td>1.0</td>\n",
       "      <td>3.0</td>\n",
       "    </tr>\n",
       "    <tr>\n",
       "      <th>Friends</th>\n",
       "      <td>378.0</td>\n",
       "      <td>0.597884</td>\n",
       "      <td>0.490975</td>\n",
       "      <td>0.0</td>\n",
       "      <td>0.0</td>\n",
       "      <td>1.0</td>\n",
       "      <td>1.0</td>\n",
       "      <td>1.0</td>\n",
       "    </tr>\n",
       "    <tr>\n",
       "      <th>SocialMediaTime</th>\n",
       "      <td>378.0</td>\n",
       "      <td>2.568783</td>\n",
       "      <td>0.765142</td>\n",
       "      <td>1.0</td>\n",
       "      <td>2.0</td>\n",
       "      <td>3.0</td>\n",
       "      <td>3.0</td>\n",
       "      <td>4.0</td>\n",
       "    </tr>\n",
       "    <tr>\n",
       "      <th>extraCurricular</th>\n",
       "      <td>378.0</td>\n",
       "      <td>0.584656</td>\n",
       "      <td>0.493434</td>\n",
       "      <td>0.0</td>\n",
       "      <td>0.0</td>\n",
       "      <td>1.0</td>\n",
       "      <td>1.0</td>\n",
       "      <td>1.0</td>\n",
       "    </tr>\n",
       "  </tbody>\n",
       "</table>\n",
       "</div>"
      ],
      "text/plain": [
       "                    count      mean       std  min  25%  50%  75%  max\n",
       "TravelTime          378.0  2.883598  1.071549  1.0  2.0  3.0  4.0  4.0\n",
       "PartTimeJob         378.0  0.431217  0.495903  0.0  0.0  0.0  1.0  1.0\n",
       "Relationship        378.0  0.417989  0.493882  0.0  0.0  0.0  1.0  1.0\n",
       "Father's_education  378.0  1.563492  0.593904  1.0  1.0  2.0  2.0  3.0\n",
       "Mother's_education  378.0  1.798942  0.676862  1.0  1.0  2.0  2.0  3.0\n",
       "StudyHours          378.0  2.272487  1.120030  1.0  1.0  2.0  3.0  5.0\n",
       "AttendenceLecs      378.0  1.542328  0.573099  1.0  1.0  2.0  2.0  3.0\n",
       "Concentrate         378.0  1.296296  0.561390  1.0  1.0  1.0  1.0  3.0\n",
       "Friends             378.0  0.597884  0.490975  0.0  0.0  1.0  1.0  1.0\n",
       "SocialMediaTime     378.0  2.568783  0.765142  1.0  2.0  3.0  3.0  4.0\n",
       "extraCurricular     378.0  0.584656  0.493434  0.0  0.0  1.0  1.0  1.0"
      ]
     },
     "execution_count": 68,
     "metadata": {},
     "output_type": "execute_result"
    }
   ],
   "source": [
    "#Transpose\n",
    "df.iloc[:,0:].describe().transpose()"
   ]
  },
  {
   "cell_type": "code",
   "execution_count": 69,
   "id": "1d77b079",
   "metadata": {},
   "outputs": [
    {
     "data": {
      "text/plain": [
       "<AxesSubplot:>"
      ]
     },
     "execution_count": 69,
     "metadata": {},
     "output_type": "execute_result"
    },
    {
     "data": {
      "image/png": "[encoded data removed]",
      "text/plain": [
       "<Figure size 640x480 with 2 Axes>"
      ]
     },
     "metadata": {},
     "output_type": "display_data"
    }
   ],
   "source": [
    "#Heatmap to see correlation\n",
    "\n",
    "import seaborn as sns\n",
    "\n",
    "sns.heatmap(df.corr(),cmap = 'coolwarm')"
   ]
  },
  {
   "cell_type": "markdown",
   "id": "ee7205b2",
   "metadata": {},
   "source": [
    "## Train/Test Split"
   ]
  },
  {
   "cell_type": "code",
   "execution_count": 70,
   "id": "d3a67b60",
   "metadata": {},
   "outputs": [],
   "source": [
    "# X and y columns added (X=columns of input, y=Output)\n",
    "X = df.drop(\"Marks\",axis = 1)\n",
    "y = df[\"Marks\"]"
   ]
  },
  {
   "cell_type": "code",
   "execution_count": 71,
   "id": "ce7e3c68",
   "metadata": {},
   "outputs": [
    {
     "data": {
      "text/plain": [
       "((264, 11), (114, 11))"
      ]
     },
     "execution_count": 71,
     "metadata": {},
     "output_type": "execute_result"
    }
   ],
   "source": [
    "from sklearn.model_selection import train_test_split\n",
    "\n",
    "X_train, X_test, y_train, y_test = train_test_split(X , y , test_size = 0.3)\n",
    "\n",
    "X_train.shape, X_test.shape"
   ]
  },
  {
   "cell_type": "code",
   "execution_count": 72,
   "id": "af4271fe",
   "metadata": {},
   "outputs": [
    {
     "name": "stdout",
     "output_type": "stream",
     "text": [
      "Counter({'80 to 89': 33, '40 to 49': 32, '90 to 100': 30, '70 to 79': 30, '50 to 59': 30, '20 to 29': 29, '60 to 69': 28, '0 to 20': 27, '30 to 39': 25})\n"
     ]
    }
   ],
   "source": [
    "from collections import Counter\n",
    "print(Counter(y_train))\n"
   ]
  },
  {
   "cell_type": "markdown",
   "id": "0544b339",
   "metadata": {},
   "source": [
    "## Decision Tree Classifier"
   ]
  },
  {
   "cell_type": "code",
   "execution_count": 73,
   "id": "00a2075c",
   "metadata": {},
   "outputs": [
    {
     "data": {
      "text/plain": [
       "array(['0 to 20', '0 to 20', '30 to 39', '0 to 20', '70 to 79',\n",
       "       '40 to 49', '60 to 69', '70 to 79', '30 to 39', '90 to 100',\n",
       "       '40 to 49', '80 to 89', '70 to 79', '80 to 89', '40 to 49',\n",
       "       '40 to 49', '30 to 39', '80 to 89', '30 to 39', '20 to 29',\n",
       "       '90 to 100', '90 to 100', '0 to 20', '40 to 49', '0 to 20',\n",
       "       '30 to 39', '20 to 29', '50 to 59', '40 to 49', '30 to 39',\n",
       "       '50 to 59', '40 to 49', '80 to 89', '60 to 69', '40 to 49',\n",
       "       '30 to 39', '30 to 39', '90 to 100', '50 to 59', '30 to 39',\n",
       "       '20 to 29', '60 to 69', '50 to 59', '60 to 69', '0 to 20',\n",
       "       '30 to 39', '0 to 20', '20 to 29', '70 to 79', '20 to 29',\n",
       "       '80 to 89', '20 to 29', '40 to 49', '20 to 29', '40 to 49',\n",
       "       '80 to 89', '90 to 100', '60 to 69', '90 to 100', '60 to 69',\n",
       "       '30 to 39', '60 to 69', '20 to 29', '30 to 39', '0 to 20',\n",
       "       '30 to 39', '30 to 39', '0 to 20', '60 to 69', '0 to 20',\n",
       "       '40 to 49', '50 to 59', '50 to 59', '70 to 79', '80 to 89',\n",
       "       '0 to 20', '0 to 20', '20 to 29', '40 to 49', '90 to 100',\n",
       "       '30 to 39', '0 to 20', '80 to 89', '60 to 69', '30 to 39',\n",
       "       '50 to 59', '50 to 59', '50 to 59', '30 to 39', '90 to 100',\n",
       "       '0 to 20', '50 to 59', '30 to 39', '80 to 89', '90 to 100',\n",
       "       '60 to 69', '50 to 59', '0 to 20', '80 to 89', '30 to 39',\n",
       "       '0 to 20', '50 to 59', '80 to 89', '20 to 29', '90 to 100',\n",
       "       '0 to 20', '80 to 89', '40 to 49', '20 to 29', '40 to 49',\n",
       "       '70 to 79', '90 to 100', '90 to 100', '60 to 69'], dtype=object)"
      ]
     },
     "execution_count": 73,
     "metadata": {},
     "output_type": "execute_result"
    }
   ],
   "source": [
    "from sklearn.tree import DecisionTreeClassifier\n",
    "\n",
    "decisionModel = DecisionTreeClassifier()\n",
    "decisionModel.fit(X_train,y_train)\n",
    "\n",
    "decisionPred = decisionModel.predict(X_test)\n",
    "\n",
    "decisionPred"
   ]
  },
  {
   "cell_type": "code",
   "execution_count": 74,
   "id": "74c8edb2",
   "metadata": {},
   "outputs": [
    {
     "data": {
      "text/plain": [
       "0.7894736842105263"
      ]
     },
     "execution_count": 74,
     "metadata": {},
     "output_type": "execute_result"
    }
   ],
   "source": [
    "#Accuracy of decision tree model\n",
    "accuracy_score(y_test,decisionPred)"
   ]
  },
  {
   "cell_type": "code",
   "execution_count": 75,
   "id": "28468662",
   "metadata": {},
   "outputs": [
    {
     "data": {
      "text/html": [
       "<div>\n",
       "<style scoped>\n",
       "    .dataframe tbody tr th:only-of-type {\n",
       "        vertical-align: middle;\n",
       "    }\n",
       "\n",
       "    .dataframe tbody tr th {\n",
       "        vertical-align: top;\n",
       "    }\n",
       "\n",
       "    .dataframe thead th {\n",
       "        text-align: right;\n",
       "    }\n",
       "</style>\n",
       "<table border=\"1\" class=\"dataframe\">\n",
       "  <thead>\n",
       "    <tr style=\"text-align: right;\">\n",
       "      <th>col_0</th>\n",
       "      <th>0 to 20</th>\n",
       "      <th>20 to 29</th>\n",
       "      <th>30 to 39</th>\n",
       "      <th>40 to 49</th>\n",
       "      <th>50 to 59</th>\n",
       "      <th>60 to 69</th>\n",
       "      <th>70 to 79</th>\n",
       "      <th>80 to 89</th>\n",
       "      <th>90 to 100</th>\n",
       "    </tr>\n",
       "    <tr>\n",
       "      <th>Marks</th>\n",
       "      <th></th>\n",
       "      <th></th>\n",
       "      <th></th>\n",
       "      <th></th>\n",
       "      <th></th>\n",
       "      <th></th>\n",
       "      <th></th>\n",
       "      <th></th>\n",
       "      <th></th>\n",
       "    </tr>\n",
       "  </thead>\n",
       "  <tbody>\n",
       "    <tr>\n",
       "      <th>0 to 20</th>\n",
       "      <td>15</td>\n",
       "      <td>0</td>\n",
       "      <td>0</td>\n",
       "      <td>0</td>\n",
       "      <td>0</td>\n",
       "      <td>0</td>\n",
       "      <td>0</td>\n",
       "      <td>0</td>\n",
       "      <td>0</td>\n",
       "    </tr>\n",
       "    <tr>\n",
       "      <th>20 to 29</th>\n",
       "      <td>0</td>\n",
       "      <td>10</td>\n",
       "      <td>0</td>\n",
       "      <td>3</td>\n",
       "      <td>0</td>\n",
       "      <td>0</td>\n",
       "      <td>0</td>\n",
       "      <td>0</td>\n",
       "      <td>0</td>\n",
       "    </tr>\n",
       "    <tr>\n",
       "      <th>30 to 39</th>\n",
       "      <td>0</td>\n",
       "      <td>0</td>\n",
       "      <td>17</td>\n",
       "      <td>0</td>\n",
       "      <td>0</td>\n",
       "      <td>0</td>\n",
       "      <td>0</td>\n",
       "      <td>0</td>\n",
       "      <td>0</td>\n",
       "    </tr>\n",
       "    <tr>\n",
       "      <th>40 to 49</th>\n",
       "      <td>0</td>\n",
       "      <td>0</td>\n",
       "      <td>0</td>\n",
       "      <td>10</td>\n",
       "      <td>0</td>\n",
       "      <td>0</td>\n",
       "      <td>0</td>\n",
       "      <td>0</td>\n",
       "      <td>0</td>\n",
       "    </tr>\n",
       "    <tr>\n",
       "      <th>50 to 59</th>\n",
       "      <td>0</td>\n",
       "      <td>0</td>\n",
       "      <td>1</td>\n",
       "      <td>0</td>\n",
       "      <td>11</td>\n",
       "      <td>0</td>\n",
       "      <td>0</td>\n",
       "      <td>0</td>\n",
       "      <td>0</td>\n",
       "    </tr>\n",
       "    <tr>\n",
       "      <th>60 to 69</th>\n",
       "      <td>1</td>\n",
       "      <td>1</td>\n",
       "      <td>0</td>\n",
       "      <td>0</td>\n",
       "      <td>1</td>\n",
       "      <td>7</td>\n",
       "      <td>1</td>\n",
       "      <td>3</td>\n",
       "      <td>0</td>\n",
       "    </tr>\n",
       "    <tr>\n",
       "      <th>70 to 79</th>\n",
       "      <td>1</td>\n",
       "      <td>0</td>\n",
       "      <td>1</td>\n",
       "      <td>1</td>\n",
       "      <td>0</td>\n",
       "      <td>2</td>\n",
       "      <td>3</td>\n",
       "      <td>4</td>\n",
       "      <td>0</td>\n",
       "    </tr>\n",
       "    <tr>\n",
       "      <th>80 to 89</th>\n",
       "      <td>0</td>\n",
       "      <td>0</td>\n",
       "      <td>0</td>\n",
       "      <td>0</td>\n",
       "      <td>0</td>\n",
       "      <td>2</td>\n",
       "      <td>2</td>\n",
       "      <td>5</td>\n",
       "      <td>0</td>\n",
       "    </tr>\n",
       "    <tr>\n",
       "      <th>90 to 100</th>\n",
       "      <td>0</td>\n",
       "      <td>0</td>\n",
       "      <td>0</td>\n",
       "      <td>0</td>\n",
       "      <td>0</td>\n",
       "      <td>0</td>\n",
       "      <td>0</td>\n",
       "      <td>0</td>\n",
       "      <td>12</td>\n",
       "    </tr>\n",
       "  </tbody>\n",
       "</table>\n",
       "</div>"
      ],
      "text/plain": [
       "col_0      0 to 20  20 to 29  30 to 39  40 to 49  50 to 59  60 to 69  \\\n",
       "Marks                                                                  \n",
       "0 to 20         15         0         0         0         0         0   \n",
       "20 to 29         0        10         0         3         0         0   \n",
       "30 to 39         0         0        17         0         0         0   \n",
       "40 to 49         0         0         0        10         0         0   \n",
       "50 to 59         0         0         1         0        11         0   \n",
       "60 to 69         1         1         0         0         1         7   \n",
       "70 to 79         1         0         1         1         0         2   \n",
       "80 to 89         0         0         0         0         0         2   \n",
       "90 to 100        0         0         0         0         0         0   \n",
       "\n",
       "col_0      70 to 79  80 to 89  90 to 100  \n",
       "Marks                                     \n",
       "0 to 20           0         0          0  \n",
       "20 to 29          0         0          0  \n",
       "30 to 39          0         0          0  \n",
       "40 to 49          0         0          0  \n",
       "50 to 59          0         0          0  \n",
       "60 to 69          1         3          0  \n",
       "70 to 79          3         4          0  \n",
       "80 to 89          2         5          0  \n",
       "90 to 100         0         0         12  "
      ]
     },
     "execution_count": 75,
     "metadata": {},
     "output_type": "execute_result"
    }
   ],
   "source": [
    "pd.crosstab(y_test,decisionPred)"
   ]
  },
  {
   "cell_type": "code",
   "execution_count": 76,
   "id": "632228b1",
   "metadata": {},
   "outputs": [
    {
     "name": "stdout",
     "output_type": "stream",
     "text": [
      "              precision    recall  f1-score   support\n",
      "\n",
      "     0 to 20       0.88      1.00      0.94        15\n",
      "    20 to 29       0.91      0.77      0.83        13\n",
      "    30 to 39       0.89      1.00      0.94        17\n",
      "    40 to 49       0.71      1.00      0.83        10\n",
      "    50 to 59       0.92      0.92      0.92        12\n",
      "    60 to 69       0.64      0.50      0.56        14\n",
      "    70 to 79       0.50      0.25      0.33        12\n",
      "    80 to 89       0.42      0.56      0.48         9\n",
      "   90 to 100       1.00      1.00      1.00        12\n",
      "\n",
      "    accuracy                           0.79       114\n",
      "   macro avg       0.76      0.78      0.76       114\n",
      "weighted avg       0.78      0.79      0.78       114\n",
      "\n"
     ]
    }
   ],
   "source": [
    "from sklearn.metrics import classification_report\n",
    "\n",
    "print(classification_report(y_test,decisionPred))"
   ]
  },
  {
   "cell_type": "markdown",
   "id": "bef5482f",
   "metadata": {},
   "source": [
    "## Random Forest Classifier"
   ]
  },
  {
   "cell_type": "code",
   "execution_count": 77,
   "id": "77a22e7a",
   "metadata": {},
   "outputs": [
    {
     "data": {
      "text/plain": [
       "array(['0 to 20', '0 to 20', '30 to 39', '0 to 20', '70 to 79',\n",
       "       '40 to 49', '80 to 89', '70 to 79', '30 to 39', '90 to 100',\n",
       "       '40 to 49', '20 to 29', '70 to 79', '80 to 89', '40 to 49',\n",
       "       '40 to 49', '30 to 39', '80 to 89', '30 to 39', '20 to 29',\n",
       "       '90 to 100', '90 to 100', '0 to 20', '40 to 49', '0 to 20',\n",
       "       '30 to 39', '20 to 29', '50 to 59', '40 to 49', '30 to 39',\n",
       "       '50 to 59', '40 to 49', '80 to 89', '70 to 79', '40 to 49',\n",
       "       '30 to 39', '30 to 39', '90 to 100', '50 to 59', '30 to 39',\n",
       "       '20 to 29', '60 to 69', '50 to 59', '60 to 69', '0 to 20',\n",
       "       '30 to 39', '0 to 20', '20 to 29', '70 to 79', '20 to 29',\n",
       "       '80 to 89', '20 to 29', '40 to 49', '20 to 29', '40 to 49',\n",
       "       '70 to 79', '90 to 100', '60 to 69', '90 to 100', '60 to 69',\n",
       "       '30 to 39', '90 to 100', '20 to 29', '30 to 39', '0 to 20',\n",
       "       '30 to 39', '30 to 39', '0 to 20', '60 to 69', '0 to 20',\n",
       "       '60 to 69', '50 to 59', '50 to 59', '70 to 79', '80 to 89',\n",
       "       '0 to 20', '0 to 20', '20 to 29', '40 to 49', '90 to 100',\n",
       "       '30 to 39', '0 to 20', '70 to 79', '60 to 69', '30 to 39',\n",
       "       '50 to 59', '50 to 59', '50 to 59', '30 to 39', '90 to 100',\n",
       "       '20 to 29', '50 to 59', '30 to 39', '80 to 89', '90 to 100',\n",
       "       '60 to 69', '50 to 59', '0 to 20', '80 to 89', '30 to 39',\n",
       "       '0 to 20', '50 to 59', '80 to 89', '20 to 29', '90 to 100',\n",
       "       '0 to 20', '70 to 79', '40 to 49', '20 to 29', '40 to 49',\n",
       "       '70 to 79', '90 to 100', '90 to 100', '60 to 69'], dtype=object)"
      ]
     },
     "execution_count": 77,
     "metadata": {},
     "output_type": "execute_result"
    }
   ],
   "source": [
    "from sklearn.ensemble import RandomForestClassifier\n",
    "\n",
    "randForestModel = RandomForestClassifier()\n",
    "randForestModel.fit(X_train, y_train)\n",
    "\n",
    "randForestPred = randForestModel.predict(X_test)\n",
    "randForestPred"
   ]
  },
  {
   "cell_type": "code",
   "execution_count": 78,
   "id": "aef56478",
   "metadata": {},
   "outputs": [
    {
     "data": {
      "text/plain": [
       "0.8157894736842105"
      ]
     },
     "execution_count": 78,
     "metadata": {},
     "output_type": "execute_result"
    }
   ],
   "source": [
    "#Accuracy of random forest model\n",
    "accuracy_score(y_test,randForestPred)"
   ]
  },
  {
   "cell_type": "code",
   "execution_count": 79,
   "id": "4b6d74bb",
   "metadata": {},
   "outputs": [
    {
     "data": {
      "text/html": [
       "<div>\n",
       "<style scoped>\n",
       "    .dataframe tbody tr th:only-of-type {\n",
       "        vertical-align: middle;\n",
       "    }\n",
       "\n",
       "    .dataframe tbody tr th {\n",
       "        vertical-align: top;\n",
       "    }\n",
       "\n",
       "    .dataframe thead th {\n",
       "        text-align: right;\n",
       "    }\n",
       "</style>\n",
       "<table border=\"1\" class=\"dataframe\">\n",
       "  <thead>\n",
       "    <tr style=\"text-align: right;\">\n",
       "      <th>col_0</th>\n",
       "      <th>0 to 20</th>\n",
       "      <th>20 to 29</th>\n",
       "      <th>30 to 39</th>\n",
       "      <th>40 to 49</th>\n",
       "      <th>50 to 59</th>\n",
       "      <th>60 to 69</th>\n",
       "      <th>70 to 79</th>\n",
       "      <th>80 to 89</th>\n",
       "      <th>90 to 100</th>\n",
       "    </tr>\n",
       "    <tr>\n",
       "      <th>Marks</th>\n",
       "      <th></th>\n",
       "      <th></th>\n",
       "      <th></th>\n",
       "      <th></th>\n",
       "      <th></th>\n",
       "      <th></th>\n",
       "      <th></th>\n",
       "      <th></th>\n",
       "      <th></th>\n",
       "    </tr>\n",
       "  </thead>\n",
       "  <tbody>\n",
       "    <tr>\n",
       "      <th>0 to 20</th>\n",
       "      <td>15</td>\n",
       "      <td>0</td>\n",
       "      <td>0</td>\n",
       "      <td>0</td>\n",
       "      <td>0</td>\n",
       "      <td>0</td>\n",
       "      <td>0</td>\n",
       "      <td>0</td>\n",
       "      <td>0</td>\n",
       "    </tr>\n",
       "    <tr>\n",
       "      <th>20 to 29</th>\n",
       "      <td>0</td>\n",
       "      <td>10</td>\n",
       "      <td>0</td>\n",
       "      <td>3</td>\n",
       "      <td>0</td>\n",
       "      <td>0</td>\n",
       "      <td>0</td>\n",
       "      <td>0</td>\n",
       "      <td>0</td>\n",
       "    </tr>\n",
       "    <tr>\n",
       "      <th>30 to 39</th>\n",
       "      <td>0</td>\n",
       "      <td>0</td>\n",
       "      <td>17</td>\n",
       "      <td>0</td>\n",
       "      <td>0</td>\n",
       "      <td>0</td>\n",
       "      <td>0</td>\n",
       "      <td>0</td>\n",
       "      <td>0</td>\n",
       "    </tr>\n",
       "    <tr>\n",
       "      <th>40 to 49</th>\n",
       "      <td>0</td>\n",
       "      <td>0</td>\n",
       "      <td>0</td>\n",
       "      <td>10</td>\n",
       "      <td>0</td>\n",
       "      <td>0</td>\n",
       "      <td>0</td>\n",
       "      <td>0</td>\n",
       "      <td>0</td>\n",
       "    </tr>\n",
       "    <tr>\n",
       "      <th>50 to 59</th>\n",
       "      <td>0</td>\n",
       "      <td>0</td>\n",
       "      <td>1</td>\n",
       "      <td>0</td>\n",
       "      <td>11</td>\n",
       "      <td>0</td>\n",
       "      <td>0</td>\n",
       "      <td>0</td>\n",
       "      <td>0</td>\n",
       "    </tr>\n",
       "    <tr>\n",
       "      <th>60 to 69</th>\n",
       "      <td>1</td>\n",
       "      <td>1</td>\n",
       "      <td>0</td>\n",
       "      <td>0</td>\n",
       "      <td>1</td>\n",
       "      <td>7</td>\n",
       "      <td>3</td>\n",
       "      <td>1</td>\n",
       "      <td>0</td>\n",
       "    </tr>\n",
       "    <tr>\n",
       "      <th>70 to 79</th>\n",
       "      <td>0</td>\n",
       "      <td>2</td>\n",
       "      <td>1</td>\n",
       "      <td>0</td>\n",
       "      <td>0</td>\n",
       "      <td>1</td>\n",
       "      <td>5</td>\n",
       "      <td>2</td>\n",
       "      <td>1</td>\n",
       "    </tr>\n",
       "    <tr>\n",
       "      <th>80 to 89</th>\n",
       "      <td>0</td>\n",
       "      <td>0</td>\n",
       "      <td>0</td>\n",
       "      <td>0</td>\n",
       "      <td>0</td>\n",
       "      <td>1</td>\n",
       "      <td>2</td>\n",
       "      <td>6</td>\n",
       "      <td>0</td>\n",
       "    </tr>\n",
       "    <tr>\n",
       "      <th>90 to 100</th>\n",
       "      <td>0</td>\n",
       "      <td>0</td>\n",
       "      <td>0</td>\n",
       "      <td>0</td>\n",
       "      <td>0</td>\n",
       "      <td>0</td>\n",
       "      <td>0</td>\n",
       "      <td>0</td>\n",
       "      <td>12</td>\n",
       "    </tr>\n",
       "  </tbody>\n",
       "</table>\n",
       "</div>"
      ],
      "text/plain": [
       "col_0      0 to 20  20 to 29  30 to 39  40 to 49  50 to 59  60 to 69  \\\n",
       "Marks                                                                  \n",
       "0 to 20         15         0         0         0         0         0   \n",
       "20 to 29         0        10         0         3         0         0   \n",
       "30 to 39         0         0        17         0         0         0   \n",
       "40 to 49         0         0         0        10         0         0   \n",
       "50 to 59         0         0         1         0        11         0   \n",
       "60 to 69         1         1         0         0         1         7   \n",
       "70 to 79         0         2         1         0         0         1   \n",
       "80 to 89         0         0         0         0         0         1   \n",
       "90 to 100        0         0         0         0         0         0   \n",
       "\n",
       "col_0      70 to 79  80 to 89  90 to 100  \n",
       "Marks                                     \n",
       "0 to 20           0         0          0  \n",
       "20 to 29          0         0          0  \n",
       "30 to 39          0         0          0  \n",
       "40 to 49          0         0          0  \n",
       "50 to 59          0         0          0  \n",
       "60 to 69          3         1          0  \n",
       "70 to 79          5         2          1  \n",
       "80 to 89          2         6          0  \n",
       "90 to 100         0         0         12  "
      ]
     },
     "execution_count": 79,
     "metadata": {},
     "output_type": "execute_result"
    }
   ],
   "source": [
    "pd.crosstab(y_test,randForestPred)"
   ]
  },
  {
   "cell_type": "code",
   "execution_count": 80,
   "id": "06c0eb9b",
   "metadata": {},
   "outputs": [
    {
     "name": "stdout",
     "output_type": "stream",
     "text": [
      "              precision    recall  f1-score   support\n",
      "\n",
      "     0 to 20       0.94      1.00      0.97        15\n",
      "    20 to 29       0.77      0.77      0.77        13\n",
      "    30 to 39       0.89      1.00      0.94        17\n",
      "    40 to 49       0.77      1.00      0.87        10\n",
      "    50 to 59       0.92      0.92      0.92        12\n",
      "    60 to 69       0.78      0.50      0.61        14\n",
      "    70 to 79       0.50      0.42      0.45        12\n",
      "    80 to 89       0.67      0.67      0.67         9\n",
      "   90 to 100       0.92      1.00      0.96        12\n",
      "\n",
      "    accuracy                           0.82       114\n",
      "   macro avg       0.79      0.81      0.80       114\n",
      "weighted avg       0.81      0.82      0.80       114\n",
      "\n"
     ]
    }
   ],
   "source": [
    "from sklearn.metrics import classification_report\n",
    "\n",
    "print(classification_report(y_test,randForestPred))"
   ]
  },
  {
   "cell_type": "markdown",
   "id": "2e55af55",
   "metadata": {},
   "source": [
    "## Support vector machine Classifier"
   ]
  },
  {
   "cell_type": "code",
   "execution_count": 81,
   "id": "b1432877",
   "metadata": {},
   "outputs": [
    {
     "data": {
      "text/plain": [
       "array(['0 to 20', '90 to 100', '30 to 39', '0 to 20', '40 to 49',\n",
       "       '40 to 49', '80 to 89', '70 to 79', '30 to 39', '60 to 69',\n",
       "       '40 to 49', '80 to 89', '80 to 89', '80 to 89', '40 to 49',\n",
       "       '40 to 49', '30 to 39', '80 to 89', '30 to 39', '20 to 29',\n",
       "       '90 to 100', '90 to 100', '0 to 20', '40 to 49', '0 to 20',\n",
       "       '40 to 49', '60 to 69', '50 to 59', '40 to 49', '30 to 39',\n",
       "       '50 to 59', '40 to 49', '80 to 89', '70 to 79', '40 to 49',\n",
       "       '30 to 39', '30 to 39', '90 to 100', '60 to 69', '30 to 39',\n",
       "       '20 to 29', '80 to 89', '80 to 89', '80 to 89', '0 to 20',\n",
       "       '30 to 39', '0 to 20', '20 to 29', '70 to 79', '20 to 29',\n",
       "       '80 to 89', '20 to 29', '40 to 49', '20 to 29', '40 to 49',\n",
       "       '60 to 69', '80 to 89', '80 to 89', '80 to 89', '90 to 100',\n",
       "       '40 to 49', '60 to 69', '60 to 69', '0 to 20', '0 to 20',\n",
       "       '0 to 20', '30 to 39', '0 to 20', '80 to 89', '0 to 20',\n",
       "       '80 to 89', '50 to 59', '50 to 59', '80 to 89', '80 to 89',\n",
       "       '0 to 20', '0 to 20', '20 to 29', '40 to 49', '70 to 79',\n",
       "       '0 to 20', '0 to 20', '70 to 79', '80 to 89', '30 to 39',\n",
       "       '80 to 89', '50 to 59', '40 to 49', '40 to 49', '80 to 89',\n",
       "       '60 to 69', '70 to 79', '30 to 39', '40 to 49', '80 to 89',\n",
       "       '80 to 89', '60 to 69', '0 to 20', '80 to 89', '40 to 49',\n",
       "       '0 to 20', '50 to 59', '80 to 89', '20 to 29', '90 to 100',\n",
       "       '0 to 20', '70 to 79', '80 to 89', '20 to 29', '40 to 49',\n",
       "       '70 to 79', '80 to 89', '80 to 89', '60 to 69'], dtype=object)"
      ]
     },
     "execution_count": 81,
     "metadata": {},
     "output_type": "execute_result"
    }
   ],
   "source": [
    "from sklearn import svm\n",
    "\n",
    "svm_model= svm.SVC(decision_function_shape='ovo')\n",
    "svm_model.fit(X_train, y_train)\n",
    "\n",
    "svm_pred = svm_model.predict(X_test)\n",
    "svm_pred"
   ]
  },
  {
   "cell_type": "code",
   "execution_count": 82,
   "id": "d8200167",
   "metadata": {},
   "outputs": [
    {
     "data": {
      "text/plain": [
       "0.5964912280701754"
      ]
     },
     "execution_count": 82,
     "metadata": {},
     "output_type": "execute_result"
    }
   ],
   "source": [
    "accuracy_score(y_test,svm_pred)"
   ]
  },
  {
   "cell_type": "code",
   "execution_count": 83,
   "id": "3e29fac1",
   "metadata": {},
   "outputs": [
    {
     "data": {
      "text/html": [
       "<div>\n",
       "<style scoped>\n",
       "    .dataframe tbody tr th:only-of-type {\n",
       "        vertical-align: middle;\n",
       "    }\n",
       "\n",
       "    .dataframe tbody tr th {\n",
       "        vertical-align: top;\n",
       "    }\n",
       "\n",
       "    .dataframe thead th {\n",
       "        text-align: right;\n",
       "    }\n",
       "</style>\n",
       "<table border=\"1\" class=\"dataframe\">\n",
       "  <thead>\n",
       "    <tr style=\"text-align: right;\">\n",
       "      <th>col_0</th>\n",
       "      <th>0 to 20</th>\n",
       "      <th>20 to 29</th>\n",
       "      <th>30 to 39</th>\n",
       "      <th>40 to 49</th>\n",
       "      <th>50 to 59</th>\n",
       "      <th>60 to 69</th>\n",
       "      <th>70 to 79</th>\n",
       "      <th>80 to 89</th>\n",
       "      <th>90 to 100</th>\n",
       "    </tr>\n",
       "    <tr>\n",
       "      <th>Marks</th>\n",
       "      <th></th>\n",
       "      <th></th>\n",
       "      <th></th>\n",
       "      <th></th>\n",
       "      <th></th>\n",
       "      <th></th>\n",
       "      <th></th>\n",
       "      <th></th>\n",
       "      <th></th>\n",
       "    </tr>\n",
       "  </thead>\n",
       "  <tbody>\n",
       "    <tr>\n",
       "      <th>0 to 20</th>\n",
       "      <td>15</td>\n",
       "      <td>0</td>\n",
       "      <td>0</td>\n",
       "      <td>0</td>\n",
       "      <td>0</td>\n",
       "      <td>0</td>\n",
       "      <td>0</td>\n",
       "      <td>0</td>\n",
       "      <td>0</td>\n",
       "    </tr>\n",
       "    <tr>\n",
       "      <th>20 to 29</th>\n",
       "      <td>0</td>\n",
       "      <td>9</td>\n",
       "      <td>0</td>\n",
       "      <td>3</td>\n",
       "      <td>0</td>\n",
       "      <td>1</td>\n",
       "      <td>0</td>\n",
       "      <td>0</td>\n",
       "      <td>0</td>\n",
       "    </tr>\n",
       "    <tr>\n",
       "      <th>30 to 39</th>\n",
       "      <td>3</td>\n",
       "      <td>0</td>\n",
       "      <td>11</td>\n",
       "      <td>3</td>\n",
       "      <td>0</td>\n",
       "      <td>0</td>\n",
       "      <td>0</td>\n",
       "      <td>0</td>\n",
       "      <td>0</td>\n",
       "    </tr>\n",
       "    <tr>\n",
       "      <th>40 to 49</th>\n",
       "      <td>0</td>\n",
       "      <td>0</td>\n",
       "      <td>0</td>\n",
       "      <td>9</td>\n",
       "      <td>0</td>\n",
       "      <td>0</td>\n",
       "      <td>0</td>\n",
       "      <td>1</td>\n",
       "      <td>0</td>\n",
       "    </tr>\n",
       "    <tr>\n",
       "      <th>50 to 59</th>\n",
       "      <td>0</td>\n",
       "      <td>0</td>\n",
       "      <td>0</td>\n",
       "      <td>2</td>\n",
       "      <td>6</td>\n",
       "      <td>2</td>\n",
       "      <td>0</td>\n",
       "      <td>2</td>\n",
       "      <td>0</td>\n",
       "    </tr>\n",
       "    <tr>\n",
       "      <th>60 to 69</th>\n",
       "      <td>0</td>\n",
       "      <td>0</td>\n",
       "      <td>0</td>\n",
       "      <td>1</td>\n",
       "      <td>0</td>\n",
       "      <td>3</td>\n",
       "      <td>3</td>\n",
       "      <td>5</td>\n",
       "      <td>2</td>\n",
       "    </tr>\n",
       "    <tr>\n",
       "      <th>70 to 79</th>\n",
       "      <td>0</td>\n",
       "      <td>0</td>\n",
       "      <td>1</td>\n",
       "      <td>1</td>\n",
       "      <td>0</td>\n",
       "      <td>2</td>\n",
       "      <td>3</td>\n",
       "      <td>5</td>\n",
       "      <td>0</td>\n",
       "    </tr>\n",
       "    <tr>\n",
       "      <th>80 to 89</th>\n",
       "      <td>0</td>\n",
       "      <td>0</td>\n",
       "      <td>0</td>\n",
       "      <td>0</td>\n",
       "      <td>0</td>\n",
       "      <td>0</td>\n",
       "      <td>1</td>\n",
       "      <td>8</td>\n",
       "      <td>0</td>\n",
       "    </tr>\n",
       "    <tr>\n",
       "      <th>90 to 100</th>\n",
       "      <td>0</td>\n",
       "      <td>0</td>\n",
       "      <td>0</td>\n",
       "      <td>0</td>\n",
       "      <td>0</td>\n",
       "      <td>1</td>\n",
       "      <td>1</td>\n",
       "      <td>6</td>\n",
       "      <td>4</td>\n",
       "    </tr>\n",
       "  </tbody>\n",
       "</table>\n",
       "</div>"
      ],
      "text/plain": [
       "col_0      0 to 20  20 to 29  30 to 39  40 to 49  50 to 59  60 to 69  \\\n",
       "Marks                                                                  \n",
       "0 to 20         15         0         0         0         0         0   \n",
       "20 to 29         0         9         0         3         0         1   \n",
       "30 to 39         3         0        11         3         0         0   \n",
       "40 to 49         0         0         0         9         0         0   \n",
       "50 to 59         0         0         0         2         6         2   \n",
       "60 to 69         0         0         0         1         0         3   \n",
       "70 to 79         0         0         1         1         0         2   \n",
       "80 to 89         0         0         0         0         0         0   \n",
       "90 to 100        0         0         0         0         0         1   \n",
       "\n",
       "col_0      70 to 79  80 to 89  90 to 100  \n",
       "Marks                                     \n",
       "0 to 20           0         0          0  \n",
       "20 to 29          0         0          0  \n",
       "30 to 39          0         0          0  \n",
       "40 to 49          0         1          0  \n",
       "50 to 59          0         2          0  \n",
       "60 to 69          3         5          2  \n",
       "70 to 79          3         5          0  \n",
       "80 to 89          1         8          0  \n",
       "90 to 100         1         6          4  "
      ]
     },
     "execution_count": 83,
     "metadata": {},
     "output_type": "execute_result"
    }
   ],
   "source": [
    "pd.crosstab(y_test,svm_pred)"
   ]
  },
  {
   "cell_type": "code",
   "execution_count": 84,
   "id": "1f7b23d4",
   "metadata": {},
   "outputs": [
    {
     "name": "stdout",
     "output_type": "stream",
     "text": [
      "              precision    recall  f1-score   support\n",
      "\n",
      "     0 to 20       0.83      1.00      0.91        15\n",
      "    20 to 29       1.00      0.69      0.82        13\n",
      "    30 to 39       0.92      0.65      0.76        17\n",
      "    40 to 49       0.47      0.90      0.62        10\n",
      "    50 to 59       1.00      0.50      0.67        12\n",
      "    60 to 69       0.33      0.21      0.26        14\n",
      "    70 to 79       0.38      0.25      0.30        12\n",
      "    80 to 89       0.30      0.89      0.44         9\n",
      "   90 to 100       0.67      0.33      0.44        12\n",
      "\n",
      "    accuracy                           0.60       114\n",
      "   macro avg       0.65      0.60      0.58       114\n",
      "weighted avg       0.68      0.60      0.60       114\n",
      "\n"
     ]
    }
   ],
   "source": [
    "from sklearn.metrics import classification_report\n",
    "\n",
    "print(classification_report(y_test,svm_pred))"
   ]
  },
  {
   "cell_type": "markdown",
   "id": "9d19aa07",
   "metadata": {},
   "source": [
    "## Ensemble Model"
   ]
  },
  {
   "cell_type": "code",
   "execution_count": 85,
   "id": "13c22a68",
   "metadata": {},
   "outputs": [
    {
     "data": {
      "text/plain": [
       "array(['0 to 20', '70 to 79', '30 to 39', '0 to 20', '80 to 89',\n",
       "       '40 to 49', '60 to 69', '70 to 79', '30 to 39', '90 to 100',\n",
       "       '40 to 49', '60 to 69', '70 to 79', '80 to 89', '40 to 49',\n",
       "       '40 to 49', '30 to 39', '80 to 89', '30 to 39', '20 to 29',\n",
       "       '90 to 100', '90 to 100', '0 to 20', '40 to 49', '0 to 20',\n",
       "       '30 to 39', '20 to 29', '50 to 59', '40 to 49', '30 to 39',\n",
       "       '50 to 59', '40 to 49', '70 to 79', '80 to 89', '40 to 49',\n",
       "       '30 to 39', '30 to 39', '90 to 100', '50 to 59', '30 to 39',\n",
       "       '20 to 29', '60 to 69', '50 to 59', '60 to 69', '0 to 20',\n",
       "       '30 to 39', '0 to 20', '20 to 29', '70 to 79', '20 to 29',\n",
       "       '60 to 69', '20 to 29', '40 to 49', '20 to 29', '40 to 49',\n",
       "       '70 to 79', '90 to 100', '60 to 69', '90 to 100', '60 to 69',\n",
       "       '30 to 39', '60 to 69', '20 to 29', '30 to 39', '0 to 20',\n",
       "       '30 to 39', '30 to 39', '0 to 20', '60 to 69', '0 to 20',\n",
       "       '80 to 89', '50 to 59', '50 to 59', '80 to 89', '70 to 79',\n",
       "       '0 to 20', '0 to 20', '20 to 29', '40 to 49', '90 to 100',\n",
       "       '30 to 39', '0 to 20', '70 to 79', '60 to 69', '30 to 39',\n",
       "       '50 to 59', '50 to 59', '50 to 59', '30 to 39', '90 to 100',\n",
       "       '80 to 89', '50 to 59', '30 to 39', '70 to 79', '90 to 100',\n",
       "       '60 to 69', '50 to 59', '0 to 20', '80 to 89', '30 to 39',\n",
       "       '0 to 20', '50 to 59', '80 to 89', '20 to 29', '90 to 100',\n",
       "       '0 to 20', '70 to 79', '80 to 89', '20 to 29', '40 to 49',\n",
       "       '70 to 79', '90 to 100', '90 to 100', '60 to 69'], dtype=object)"
      ]
     },
     "execution_count": 85,
     "metadata": {},
     "output_type": "execute_result"
    }
   ],
   "source": [
    "from sklearn.ensemble import StackingClassifier\n",
    "from sklearn.linear_model import LogisticRegression\n",
    "from sklearn.pipeline import make_pipeline\n",
    "from sklearn.preprocessing import StandardScaler\n",
    "\n",
    "\n",
    "estimators_list = [('model1',decisionModel),('model2',randForestModel),('model3',svm_model)]\n",
    "\n",
    "pipe = make_pipeline(StandardScaler(), StackingClassifier(estimators = estimators_list, final_estimator = LogisticRegression(max_iter=2000)))\n",
    "                     \n",
    "pipe.fit(X_train, y_train)\n",
    "\n",
    "stackPred = pipe.predict(X_test)\n",
    "stackPred\n"
   ]
  },
  {
   "cell_type": "code",
   "execution_count": 86,
   "id": "509ba706",
   "metadata": {},
   "outputs": [
    {
     "data": {
      "text/plain": [
       "(114, 9)"
      ]
     },
     "execution_count": 86,
     "metadata": {},
     "output_type": "execute_result"
    }
   ],
   "source": [
    "stackPredProba = pipe.predict_proba(X_test)\n",
    "\n",
    "#9 classes were correctly predicted\n",
    "stackPredProba.shape"
   ]
  },
  {
   "cell_type": "code",
   "execution_count": 87,
   "id": "186d71cd",
   "metadata": {},
   "outputs": [
    {
     "data": {
      "text/plain": [
       "(114,)"
      ]
     },
     "execution_count": 87,
     "metadata": {},
     "output_type": "execute_result"
    }
   ],
   "source": [
    "#Shape of the prediction\n",
    "stackPred.shape"
   ]
  },
  {
   "cell_type": "code",
   "execution_count": 88,
   "id": "12e2e9cc",
   "metadata": {},
   "outputs": [
    {
     "data": {
      "text/plain": [
       "0.7631578947368421"
      ]
     },
     "execution_count": 88,
     "metadata": {},
     "output_type": "execute_result"
    }
   ],
   "source": [
    "accuracy_score(y_test,stackPred)"
   ]
  },
  {
   "cell_type": "code",
   "execution_count": 89,
   "id": "7c32457c",
   "metadata": {},
   "outputs": [
    {
     "data": {
      "text/html": [
       "<div>\n",
       "<style scoped>\n",
       "    .dataframe tbody tr th:only-of-type {\n",
       "        vertical-align: middle;\n",
       "    }\n",
       "\n",
       "    .dataframe tbody tr th {\n",
       "        vertical-align: top;\n",
       "    }\n",
       "\n",
       "    .dataframe thead th {\n",
       "        text-align: right;\n",
       "    }\n",
       "</style>\n",
       "<table border=\"1\" class=\"dataframe\">\n",
       "  <thead>\n",
       "    <tr style=\"text-align: right;\">\n",
       "      <th>col_0</th>\n",
       "      <th>0 to 20</th>\n",
       "      <th>20 to 29</th>\n",
       "      <th>30 to 39</th>\n",
       "      <th>40 to 49</th>\n",
       "      <th>50 to 59</th>\n",
       "      <th>60 to 69</th>\n",
       "      <th>70 to 79</th>\n",
       "      <th>80 to 89</th>\n",
       "      <th>90 to 100</th>\n",
       "    </tr>\n",
       "    <tr>\n",
       "      <th>Marks</th>\n",
       "      <th></th>\n",
       "      <th></th>\n",
       "      <th></th>\n",
       "      <th></th>\n",
       "      <th></th>\n",
       "      <th></th>\n",
       "      <th></th>\n",
       "      <th></th>\n",
       "      <th></th>\n",
       "    </tr>\n",
       "  </thead>\n",
       "  <tbody>\n",
       "    <tr>\n",
       "      <th>0 to 20</th>\n",
       "      <td>15</td>\n",
       "      <td>0</td>\n",
       "      <td>0</td>\n",
       "      <td>0</td>\n",
       "      <td>0</td>\n",
       "      <td>0</td>\n",
       "      <td>0</td>\n",
       "      <td>0</td>\n",
       "      <td>0</td>\n",
       "    </tr>\n",
       "    <tr>\n",
       "      <th>20 to 29</th>\n",
       "      <td>0</td>\n",
       "      <td>10</td>\n",
       "      <td>0</td>\n",
       "      <td>3</td>\n",
       "      <td>0</td>\n",
       "      <td>0</td>\n",
       "      <td>0</td>\n",
       "      <td>0</td>\n",
       "      <td>0</td>\n",
       "    </tr>\n",
       "    <tr>\n",
       "      <th>30 to 39</th>\n",
       "      <td>0</td>\n",
       "      <td>0</td>\n",
       "      <td>17</td>\n",
       "      <td>0</td>\n",
       "      <td>0</td>\n",
       "      <td>0</td>\n",
       "      <td>0</td>\n",
       "      <td>0</td>\n",
       "      <td>0</td>\n",
       "    </tr>\n",
       "    <tr>\n",
       "      <th>40 to 49</th>\n",
       "      <td>0</td>\n",
       "      <td>0</td>\n",
       "      <td>0</td>\n",
       "      <td>9</td>\n",
       "      <td>0</td>\n",
       "      <td>0</td>\n",
       "      <td>0</td>\n",
       "      <td>1</td>\n",
       "      <td>0</td>\n",
       "    </tr>\n",
       "    <tr>\n",
       "      <th>50 to 59</th>\n",
       "      <td>0</td>\n",
       "      <td>0</td>\n",
       "      <td>1</td>\n",
       "      <td>0</td>\n",
       "      <td>11</td>\n",
       "      <td>0</td>\n",
       "      <td>0</td>\n",
       "      <td>0</td>\n",
       "      <td>0</td>\n",
       "    </tr>\n",
       "    <tr>\n",
       "      <th>60 to 69</th>\n",
       "      <td>0</td>\n",
       "      <td>1</td>\n",
       "      <td>0</td>\n",
       "      <td>0</td>\n",
       "      <td>1</td>\n",
       "      <td>7</td>\n",
       "      <td>5</td>\n",
       "      <td>0</td>\n",
       "      <td>0</td>\n",
       "    </tr>\n",
       "    <tr>\n",
       "      <th>70 to 79</th>\n",
       "      <td>0</td>\n",
       "      <td>0</td>\n",
       "      <td>1</td>\n",
       "      <td>0</td>\n",
       "      <td>0</td>\n",
       "      <td>2</td>\n",
       "      <td>3</td>\n",
       "      <td>6</td>\n",
       "      <td>0</td>\n",
       "    </tr>\n",
       "    <tr>\n",
       "      <th>80 to 89</th>\n",
       "      <td>0</td>\n",
       "      <td>0</td>\n",
       "      <td>0</td>\n",
       "      <td>0</td>\n",
       "      <td>0</td>\n",
       "      <td>3</td>\n",
       "      <td>3</td>\n",
       "      <td>3</td>\n",
       "      <td>0</td>\n",
       "    </tr>\n",
       "    <tr>\n",
       "      <th>90 to 100</th>\n",
       "      <td>0</td>\n",
       "      <td>0</td>\n",
       "      <td>0</td>\n",
       "      <td>0</td>\n",
       "      <td>0</td>\n",
       "      <td>0</td>\n",
       "      <td>0</td>\n",
       "      <td>0</td>\n",
       "      <td>12</td>\n",
       "    </tr>\n",
       "  </tbody>\n",
       "</table>\n",
       "</div>"
      ],
      "text/plain": [
       "col_0      0 to 20  20 to 29  30 to 39  40 to 49  50 to 59  60 to 69  \\\n",
       "Marks                                                                  \n",
       "0 to 20         15         0         0         0         0         0   \n",
       "20 to 29         0        10         0         3         0         0   \n",
       "30 to 39         0         0        17         0         0         0   \n",
       "40 to 49         0         0         0         9         0         0   \n",
       "50 to 59         0         0         1         0        11         0   \n",
       "60 to 69         0         1         0         0         1         7   \n",
       "70 to 79         0         0         1         0         0         2   \n",
       "80 to 89         0         0         0         0         0         3   \n",
       "90 to 100        0         0         0         0         0         0   \n",
       "\n",
       "col_0      70 to 79  80 to 89  90 to 100  \n",
       "Marks                                     \n",
       "0 to 20           0         0          0  \n",
       "20 to 29          0         0          0  \n",
       "30 to 39          0         0          0  \n",
       "40 to 49          0         1          0  \n",
       "50 to 59          0         0          0  \n",
       "60 to 69          5         0          0  \n",
       "70 to 79          3         6          0  \n",
       "80 to 89          3         3          0  \n",
       "90 to 100         0         0         12  "
      ]
     },
     "execution_count": 89,
     "metadata": {},
     "output_type": "execute_result"
    }
   ],
   "source": [
    "pd.crosstab(y_test,stackPred)"
   ]
  },
  {
   "cell_type": "code",
   "execution_count": 90,
   "id": "78b8ebfd",
   "metadata": {},
   "outputs": [
    {
     "name": "stdout",
     "output_type": "stream",
     "text": [
      "              precision    recall  f1-score   support\n",
      "\n",
      "     0 to 20       1.00      1.00      1.00        15\n",
      "    20 to 29       0.91      0.77      0.83        13\n",
      "    30 to 39       0.89      1.00      0.94        17\n",
      "    40 to 49       0.75      0.90      0.82        10\n",
      "    50 to 59       0.92      0.92      0.92        12\n",
      "    60 to 69       0.58      0.50      0.54        14\n",
      "    70 to 79       0.27      0.25      0.26        12\n",
      "    80 to 89       0.30      0.33      0.32         9\n",
      "   90 to 100       1.00      1.00      1.00        12\n",
      "\n",
      "    accuracy                           0.76       114\n",
      "   macro avg       0.74      0.74      0.74       114\n",
      "weighted avg       0.76      0.76      0.76       114\n",
      "\n"
     ]
    }
   ],
   "source": [
    "from sklearn.metrics import classification_report\n",
    "\n",
    "print(classification_report(y_test,stackPred))"
   ]
  },
  {
   "cell_type": "markdown",
   "id": "1fd1949c",
   "metadata": {},
   "source": [
    "## ROC Curve for Stacking ensemble model"
   ]
  },
  {
   "cell_type": "code",
   "execution_count": 92,
   "id": "eb0302bc",
   "metadata": {},
   "outputs": [
    {
     "data": {
      "image/png": "[encoded data removed]",
      "text/plain": [
       "<Figure size 640x480 with 1 Axes>"
      ]
     },
     "metadata": {},
     "output_type": "display_data"
    }
   ],
   "source": [
    "#Multiclass ROC curve - One vs Rest \n",
    "from sklearn.preprocessing import label_binarize\n",
    "from sklearn.metrics import roc_curve,auc\n",
    "#binarizing the y_test values\n",
    "\n",
    "y_test_binarized=label_binarize(y_test,classes=np.unique(y_test))\n",
    "\n",
    "classes=np.unique(y_test)\n",
    "n_class = classes.shape[0]\n",
    "\n",
    "\n",
    "falsePositiveRate = {}\n",
    "truePositiveRate = {}\n",
    "threshold = {}\n",
    "\n",
    "roc_auc = dict()\n",
    "\n",
    "\n",
    "for i in range(n_class):\n",
    "    falsePositiveRate[i], truePositiveRate[i], threshold[i] = roc_curve(y_test_binarized[:,i], stackPredProba[:,i])\n",
    "    roc_auc[i] = auc(falsePositiveRate[i], truePositiveRate[i])\n",
    "    \n",
    "    #Plotting curve\n",
    "    plt.plot(falsePositiveRate[i], truePositiveRate[i], linestyle=\"--\",\n",
    "            label = \"%s vs Rest (AUC=%0.2f)\"%(classes[i],roc_auc[i]))\n",
    "    \n",
    "\n",
    "plt.legend(loc='lower right')\n",
    "plt.show()"
   ]
  },
  {
   "cell_type": "markdown",
   "id": "22b79833",
   "metadata": {},
   "source": [
    "## Cross Validation"
   ]
  },
  {
   "cell_type": "code",
   "execution_count": 93,
   "id": "682bd622",
   "metadata": {},
   "outputs": [
    {
     "data": {
      "text/plain": [
       "StratifiedKFold(n_splits=10, random_state=None, shuffle=False)"
      ]
     },
     "execution_count": 93,
     "metadata": {},
     "output_type": "execute_result"
    }
   ],
   "source": [
    "from sklearn.model_selection import StratifiedKFold\n",
    "#10 folds\n",
    "kf = StratifiedKFold(n_splits= 10)\n",
    "kf"
   ]
  },
  {
   "cell_type": "code",
   "execution_count": 94,
   "id": "e6a7e68d",
   "metadata": {},
   "outputs": [],
   "source": [
    "def get_score(model, X_train, X_test, y_train, y_test):\n",
    "    model.fit(X_train, y_train)\n",
    "    return model.score(X_test,y_test)"
   ]
  },
  {
   "cell_type": "code",
   "execution_count": 95,
   "id": "d3690034",
   "metadata": {},
   "outputs": [],
   "source": [
    "scores_model = []\n",
    "\n",
    "X = df.drop(\"Marks\",axis = 1)\n",
    "y = df[\"Marks\"]\n",
    "\n",
    "\n",
    "for train_index, test_index in kf.split(X,y):\n",
    "    X_train, X_test, y_train, y_test = X.iloc[train_index], X.iloc[test_index], y.iloc[train_index], y.loc[test_index]\n",
    "    scores_model.append(get_score(pipe, X_train, X_test, y_train, y_test))\n"
   ]
  },
  {
   "cell_type": "code",
   "execution_count": 96,
   "id": "6f807081",
   "metadata": {},
   "outputs": [
    {
     "data": {
      "text/plain": [
       "[0.8421052631578947,\n",
       " 0.631578947368421,\n",
       " 0.868421052631579,\n",
       " 0.7631578947368421,\n",
       " 0.7894736842105263,\n",
       " 0.8421052631578947,\n",
       " 0.7894736842105263,\n",
       " 0.7894736842105263,\n",
       " 0.7567567567567568,\n",
       " 0.8378378378378378]"
      ]
     },
     "execution_count": 96,
     "metadata": {},
     "output_type": "execute_result"
    }
   ],
   "source": [
    "scores_model"
   ]
  },
  {
   "cell_type": "code",
   "execution_count": null,
   "id": "4a8bf9da",
   "metadata": {},
   "outputs": [],
   "source": []
  }
 ],
 "metadata": {
  "kernelspec": {
   "display_name": "Python 3 (ipykernel)",
   "language": "python",
   "name": "python3"
  },
  "language_info": {
   "codemirror_mode": {
    "name": "ipython",
    "version": 3
   },
   "file_extension": ".py",
   "mimetype": "text/x-python",
   "name": "python",
   "nbconvert_exporter": "python",
   "pygments_lexer": "ipython3",
   "version": "3.9.13"
  }
 },
 "nbformat": 4,
 "nbformat_minor": 5
}
