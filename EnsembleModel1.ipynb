{
 "cells": [
  {
   "cell_type": "markdown",
   "id": "1cf9ded1",
   "metadata": {},
   "source": [
    "## Import the dataset\n"
   ]
  },
  {
   "cell_type": "code",
   "execution_count": 119,
   "id": "fda612ea",
   "metadata": {},
   "outputs": [],
   "source": [
    "import pandas as pd\n",
    "import numpy as np\n",
    "import matplotlib.pyplot as plt\n",
    "from sklearn.metrics import accuracy_score"
   ]
  },
  {
   "cell_type": "code",
   "execution_count": 120,
   "id": "ded25d82",
   "metadata": {},
   "outputs": [],
   "source": [
    "df = pd.read_csv(\"changeddataset.csv\")"
   ]
  },
  {
   "cell_type": "code",
   "execution_count": 121,
   "id": "d33cb471",
   "metadata": {},
   "outputs": [],
   "source": [
    "df.drop('Unnamed: 0',axis = 1, inplace = True)\n"
   ]
  },
  {
   "cell_type": "code",
   "execution_count": 122,
   "id": "0590a903",
   "metadata": {},
   "outputs": [
    {
     "data": {
      "text/html": [
       "<div>\n",
       "<style scoped>\n",
       "    .dataframe tbody tr th:only-of-type {\n",
       "        vertical-align: middle;\n",
       "    }\n",
       "\n",
       "    .dataframe tbody tr th {\n",
       "        vertical-align: top;\n",
       "    }\n",
       "\n",
       "    .dataframe thead th {\n",
       "        text-align: right;\n",
       "    }\n",
       "</style>\n",
       "<table border=\"1\" class=\"dataframe\">\n",
       "  <thead>\n",
       "    <tr style=\"text-align: right;\">\n",
       "      <th></th>\n",
       "      <th>Gender</th>\n",
       "      <th>TravelMethod</th>\n",
       "      <th>TravelTime</th>\n",
       "      <th>PartTimeJob</th>\n",
       "      <th>Relationship</th>\n",
       "      <th>Father's_education</th>\n",
       "      <th>Mother's_education</th>\n",
       "      <th>StudyHours</th>\n",
       "      <th>AttendenceLecs</th>\n",
       "      <th>Concentrate</th>\n",
       "      <th>Friends</th>\n",
       "      <th>SocialMediaTime</th>\n",
       "      <th>extra curricular</th>\n",
       "      <th>StudyPattern</th>\n",
       "      <th>Rate yourself</th>\n",
       "      <th>Marks</th>\n",
       "    </tr>\n",
       "  </thead>\n",
       "  <tbody>\n",
       "    <tr>\n",
       "      <th>0</th>\n",
       "      <td>1</td>\n",
       "      <td>1</td>\n",
       "      <td>3</td>\n",
       "      <td>0</td>\n",
       "      <td>0</td>\n",
       "      <td>1</td>\n",
       "      <td>1</td>\n",
       "      <td>2</td>\n",
       "      <td>1</td>\n",
       "      <td>1</td>\n",
       "      <td>1</td>\n",
       "      <td>3</td>\n",
       "      <td>1</td>\n",
       "      <td>1</td>\n",
       "      <td>1</td>\n",
       "      <td>80 to 89</td>\n",
       "    </tr>\n",
       "    <tr>\n",
       "      <th>1</th>\n",
       "      <td>1</td>\n",
       "      <td>0</td>\n",
       "      <td>3</td>\n",
       "      <td>0</td>\n",
       "      <td>1</td>\n",
       "      <td>1</td>\n",
       "      <td>2</td>\n",
       "      <td>3</td>\n",
       "      <td>1</td>\n",
       "      <td>1</td>\n",
       "      <td>1</td>\n",
       "      <td>2</td>\n",
       "      <td>1</td>\n",
       "      <td>1</td>\n",
       "      <td>1</td>\n",
       "      <td>80 to 89</td>\n",
       "    </tr>\n",
       "    <tr>\n",
       "      <th>2</th>\n",
       "      <td>1</td>\n",
       "      <td>1</td>\n",
       "      <td>4</td>\n",
       "      <td>0</td>\n",
       "      <td>0</td>\n",
       "      <td>3</td>\n",
       "      <td>2</td>\n",
       "      <td>2</td>\n",
       "      <td>2</td>\n",
       "      <td>1</td>\n",
       "      <td>0</td>\n",
       "      <td>3</td>\n",
       "      <td>0</td>\n",
       "      <td>2</td>\n",
       "      <td>3</td>\n",
       "      <td>60 to 69</td>\n",
       "    </tr>\n",
       "    <tr>\n",
       "      <th>3</th>\n",
       "      <td>1</td>\n",
       "      <td>0</td>\n",
       "      <td>3</td>\n",
       "      <td>0</td>\n",
       "      <td>1</td>\n",
       "      <td>1</td>\n",
       "      <td>2</td>\n",
       "      <td>4</td>\n",
       "      <td>1</td>\n",
       "      <td>1</td>\n",
       "      <td>1</td>\n",
       "      <td>2</td>\n",
       "      <td>1</td>\n",
       "      <td>1</td>\n",
       "      <td>1</td>\n",
       "      <td>80 to 89</td>\n",
       "    </tr>\n",
       "    <tr>\n",
       "      <th>4</th>\n",
       "      <td>1</td>\n",
       "      <td>1</td>\n",
       "      <td>2</td>\n",
       "      <td>0</td>\n",
       "      <td>0</td>\n",
       "      <td>2</td>\n",
       "      <td>1</td>\n",
       "      <td>2</td>\n",
       "      <td>2</td>\n",
       "      <td>1</td>\n",
       "      <td>0</td>\n",
       "      <td>4</td>\n",
       "      <td>0</td>\n",
       "      <td>2</td>\n",
       "      <td>2</td>\n",
       "      <td>70 to 79</td>\n",
       "    </tr>\n",
       "    <tr>\n",
       "      <th>...</th>\n",
       "      <td>...</td>\n",
       "      <td>...</td>\n",
       "      <td>...</td>\n",
       "      <td>...</td>\n",
       "      <td>...</td>\n",
       "      <td>...</td>\n",
       "      <td>...</td>\n",
       "      <td>...</td>\n",
       "      <td>...</td>\n",
       "      <td>...</td>\n",
       "      <td>...</td>\n",
       "      <td>...</td>\n",
       "      <td>...</td>\n",
       "      <td>...</td>\n",
       "      <td>...</td>\n",
       "      <td>...</td>\n",
       "    </tr>\n",
       "    <tr>\n",
       "      <th>373</th>\n",
       "      <td>0</td>\n",
       "      <td>0</td>\n",
       "      <td>1</td>\n",
       "      <td>0</td>\n",
       "      <td>0</td>\n",
       "      <td>1</td>\n",
       "      <td>2</td>\n",
       "      <td>1</td>\n",
       "      <td>2</td>\n",
       "      <td>1</td>\n",
       "      <td>1</td>\n",
       "      <td>3</td>\n",
       "      <td>0</td>\n",
       "      <td>2</td>\n",
       "      <td>1</td>\n",
       "      <td>90 to 100</td>\n",
       "    </tr>\n",
       "    <tr>\n",
       "      <th>374</th>\n",
       "      <td>1</td>\n",
       "      <td>1</td>\n",
       "      <td>4</td>\n",
       "      <td>1</td>\n",
       "      <td>1</td>\n",
       "      <td>1</td>\n",
       "      <td>2</td>\n",
       "      <td>4</td>\n",
       "      <td>2</td>\n",
       "      <td>1</td>\n",
       "      <td>1</td>\n",
       "      <td>1</td>\n",
       "      <td>1</td>\n",
       "      <td>1</td>\n",
       "      <td>1</td>\n",
       "      <td>90 to 100</td>\n",
       "    </tr>\n",
       "    <tr>\n",
       "      <th>375</th>\n",
       "      <td>1</td>\n",
       "      <td>1</td>\n",
       "      <td>3</td>\n",
       "      <td>0</td>\n",
       "      <td>0</td>\n",
       "      <td>2</td>\n",
       "      <td>2</td>\n",
       "      <td>3</td>\n",
       "      <td>2</td>\n",
       "      <td>1</td>\n",
       "      <td>1</td>\n",
       "      <td>2</td>\n",
       "      <td>1</td>\n",
       "      <td>1</td>\n",
       "      <td>1</td>\n",
       "      <td>90 to 100</td>\n",
       "    </tr>\n",
       "    <tr>\n",
       "      <th>376</th>\n",
       "      <td>1</td>\n",
       "      <td>0</td>\n",
       "      <td>1</td>\n",
       "      <td>1</td>\n",
       "      <td>1</td>\n",
       "      <td>2</td>\n",
       "      <td>2</td>\n",
       "      <td>2</td>\n",
       "      <td>1</td>\n",
       "      <td>1</td>\n",
       "      <td>1</td>\n",
       "      <td>2</td>\n",
       "      <td>1</td>\n",
       "      <td>1</td>\n",
       "      <td>1</td>\n",
       "      <td>90 to 100</td>\n",
       "    </tr>\n",
       "    <tr>\n",
       "      <th>377</th>\n",
       "      <td>1</td>\n",
       "      <td>1</td>\n",
       "      <td>4</td>\n",
       "      <td>1</td>\n",
       "      <td>1</td>\n",
       "      <td>1</td>\n",
       "      <td>2</td>\n",
       "      <td>4</td>\n",
       "      <td>2</td>\n",
       "      <td>1</td>\n",
       "      <td>1</td>\n",
       "      <td>1</td>\n",
       "      <td>1</td>\n",
       "      <td>1</td>\n",
       "      <td>1</td>\n",
       "      <td>90 to 100</td>\n",
       "    </tr>\n",
       "  </tbody>\n",
       "</table>\n",
       "<p>378 rows × 16 columns</p>\n",
       "</div>"
      ],
      "text/plain": [
       "     Gender  TravelMethod  TravelTime  PartTimeJob  Relationship  \\\n",
       "0         1             1           3            0             0   \n",
       "1         1             0           3            0             1   \n",
       "2         1             1           4            0             0   \n",
       "3         1             0           3            0             1   \n",
       "4         1             1           2            0             0   \n",
       "..      ...           ...         ...          ...           ...   \n",
       "373       0             0           1            0             0   \n",
       "374       1             1           4            1             1   \n",
       "375       1             1           3            0             0   \n",
       "376       1             0           1            1             1   \n",
       "377       1             1           4            1             1   \n",
       "\n",
       "     Father's_education  Mother's_education  StudyHours  AttendenceLecs  \\\n",
       "0                     1                   1           2               1   \n",
       "1                     1                   2           3               1   \n",
       "2                     3                   2           2               2   \n",
       "3                     1                   2           4               1   \n",
       "4                     2                   1           2               2   \n",
       "..                  ...                 ...         ...             ...   \n",
       "373                   1                   2           1               2   \n",
       "374                   1                   2           4               2   \n",
       "375                   2                   2           3               2   \n",
       "376                   2                   2           2               1   \n",
       "377                   1                   2           4               2   \n",
       "\n",
       "     Concentrate  Friends  SocialMediaTime  extra curricular  StudyPattern  \\\n",
       "0              1        1                3                 1             1   \n",
       "1              1        1                2                 1             1   \n",
       "2              1        0                3                 0             2   \n",
       "3              1        1                2                 1             1   \n",
       "4              1        0                4                 0             2   \n",
       "..           ...      ...              ...               ...           ...   \n",
       "373            1        1                3                 0             2   \n",
       "374            1        1                1                 1             1   \n",
       "375            1        1                2                 1             1   \n",
       "376            1        1                2                 1             1   \n",
       "377            1        1                1                 1             1   \n",
       "\n",
       "     Rate yourself      Marks  \n",
       "0                1   80 to 89  \n",
       "1                1   80 to 89  \n",
       "2                3   60 to 69  \n",
       "3                1   80 to 89  \n",
       "4                2   70 to 79  \n",
       "..             ...        ...  \n",
       "373              1  90 to 100  \n",
       "374              1  90 to 100  \n",
       "375              1  90 to 100  \n",
       "376              1  90 to 100  \n",
       "377              1  90 to 100  \n",
       "\n",
       "[378 rows x 16 columns]"
      ]
     },
     "execution_count": 122,
     "metadata": {},
     "output_type": "execute_result"
    }
   ],
   "source": [
    "df"
   ]
  },
  {
   "cell_type": "code",
   "execution_count": 123,
   "id": "2828d676",
   "metadata": {},
   "outputs": [
    {
     "data": {
      "text/plain": [
       "(378, 16)"
      ]
     },
     "execution_count": 123,
     "metadata": {},
     "output_type": "execute_result"
    }
   ],
   "source": [
    "df.shape"
   ]
  },
  {
   "cell_type": "code",
   "execution_count": 124,
   "id": "cb4111d4",
   "metadata": {},
   "outputs": [
    {
     "data": {
      "text/plain": [
       "Gender                378\n",
       "TravelMethod          378\n",
       "TravelTime            378\n",
       "PartTimeJob           378\n",
       "Relationship          378\n",
       "Father's_education    378\n",
       "Mother's_education    378\n",
       "StudyHours            378\n",
       "AttendenceLecs        378\n",
       "Concentrate           378\n",
       "Friends               378\n",
       "SocialMediaTime       378\n",
       "extra curricular      378\n",
       "StudyPattern          378\n",
       "Rate yourself         378\n",
       "Marks                 378\n",
       "dtype: int64"
      ]
     },
     "execution_count": 124,
     "metadata": {},
     "output_type": "execute_result"
    }
   ],
   "source": [
    "df.count()"
   ]
  },
  {
   "cell_type": "code",
   "execution_count": 125,
   "id": "1dcf24c2",
   "metadata": {},
   "outputs": [
    {
     "data": {
      "text/plain": [
       "Gender                0\n",
       "TravelMethod          0\n",
       "TravelTime            0\n",
       "PartTimeJob           0\n",
       "Relationship          0\n",
       "Father's_education    0\n",
       "Mother's_education    0\n",
       "StudyHours            0\n",
       "AttendenceLecs        0\n",
       "Concentrate           0\n",
       "Friends               0\n",
       "SocialMediaTime       0\n",
       "extra curricular      0\n",
       "StudyPattern          0\n",
       "Rate yourself         0\n",
       "Marks                 0\n",
       "dtype: int64"
      ]
     },
     "execution_count": 125,
     "metadata": {},
     "output_type": "execute_result"
    }
   ],
   "source": [
    "#No null values where discovered\n",
    "df.isnull().sum()"
   ]
  },
  {
   "cell_type": "markdown",
   "id": "6b029436",
   "metadata": {},
   "source": [
    "## Visualization"
   ]
  },
  {
   "cell_type": "code",
   "execution_count": 126,
   "id": "4a0dab7c",
   "metadata": {},
   "outputs": [
    {
     "data": {
      "text/plain": [
       "Fail         126\n",
       "80 to 89      42\n",
       "60 to 69      42\n",
       "70 to 79      42\n",
       "90 to 100     42\n",
       "50 to 59      42\n",
       "40 to 49      42\n",
       "Name: Marks, dtype: int64"
      ]
     },
     "execution_count": 126,
     "metadata": {},
     "output_type": "execute_result"
    }
   ],
   "source": [
    "df[\"Marks\"].value_counts()"
   ]
  },
  {
   "cell_type": "code",
   "execution_count": 127,
   "id": "ca0cecdd",
   "metadata": {},
   "outputs": [
    {
     "data": {
      "text/plain": [
       "<AxesSubplot:>"
      ]
     },
     "execution_count": 127,
     "metadata": {},
     "output_type": "execute_result"
    },
    {
     "data": {
      "image/png": "[encoded data removed]",
      "text/plain": [
       "<Figure size 640x480 with 1 Axes>"
      ]
     },
     "metadata": {},
     "output_type": "display_data"
    }
   ],
   "source": [
    "df[\"Marks\"].value_counts().plot.bar()"
   ]
  },
  {
   "cell_type": "code",
   "execution_count": 128,
   "id": "b69569d7",
   "metadata": {},
   "outputs": [
    {
     "data": {
      "text/html": [
       "<div>\n",
       "<style scoped>\n",
       "    .dataframe tbody tr th:only-of-type {\n",
       "        vertical-align: middle;\n",
       "    }\n",
       "\n",
       "    .dataframe tbody tr th {\n",
       "        vertical-align: top;\n",
       "    }\n",
       "\n",
       "    .dataframe thead th {\n",
       "        text-align: right;\n",
       "    }\n",
       "</style>\n",
       "<table border=\"1\" class=\"dataframe\">\n",
       "  <thead>\n",
       "    <tr style=\"text-align: right;\">\n",
       "      <th></th>\n",
       "      <th>count</th>\n",
       "      <th>mean</th>\n",
       "      <th>std</th>\n",
       "      <th>min</th>\n",
       "      <th>25%</th>\n",
       "      <th>50%</th>\n",
       "      <th>75%</th>\n",
       "      <th>max</th>\n",
       "    </tr>\n",
       "  </thead>\n",
       "  <tbody>\n",
       "    <tr>\n",
       "      <th>TravelMethod</th>\n",
       "      <td>378.0</td>\n",
       "      <td>0.544974</td>\n",
       "      <td>0.498633</td>\n",
       "      <td>0.0</td>\n",
       "      <td>0.0</td>\n",
       "      <td>1.0</td>\n",
       "      <td>1.0</td>\n",
       "      <td>1.0</td>\n",
       "    </tr>\n",
       "    <tr>\n",
       "      <th>TravelTime</th>\n",
       "      <td>378.0</td>\n",
       "      <td>2.883598</td>\n",
       "      <td>1.071549</td>\n",
       "      <td>1.0</td>\n",
       "      <td>2.0</td>\n",
       "      <td>3.0</td>\n",
       "      <td>4.0</td>\n",
       "      <td>4.0</td>\n",
       "    </tr>\n",
       "    <tr>\n",
       "      <th>PartTimeJob</th>\n",
       "      <td>378.0</td>\n",
       "      <td>0.431217</td>\n",
       "      <td>0.495903</td>\n",
       "      <td>0.0</td>\n",
       "      <td>0.0</td>\n",
       "      <td>0.0</td>\n",
       "      <td>1.0</td>\n",
       "      <td>1.0</td>\n",
       "    </tr>\n",
       "    <tr>\n",
       "      <th>Relationship</th>\n",
       "      <td>378.0</td>\n",
       "      <td>0.417989</td>\n",
       "      <td>0.493882</td>\n",
       "      <td>0.0</td>\n",
       "      <td>0.0</td>\n",
       "      <td>0.0</td>\n",
       "      <td>1.0</td>\n",
       "      <td>1.0</td>\n",
       "    </tr>\n",
       "    <tr>\n",
       "      <th>Father's_education</th>\n",
       "      <td>378.0</td>\n",
       "      <td>1.563492</td>\n",
       "      <td>0.593904</td>\n",
       "      <td>1.0</td>\n",
       "      <td>1.0</td>\n",
       "      <td>2.0</td>\n",
       "      <td>2.0</td>\n",
       "      <td>3.0</td>\n",
       "    </tr>\n",
       "    <tr>\n",
       "      <th>Mother's_education</th>\n",
       "      <td>378.0</td>\n",
       "      <td>1.798942</td>\n",
       "      <td>0.676862</td>\n",
       "      <td>1.0</td>\n",
       "      <td>1.0</td>\n",
       "      <td>2.0</td>\n",
       "      <td>2.0</td>\n",
       "      <td>3.0</td>\n",
       "    </tr>\n",
       "    <tr>\n",
       "      <th>StudyHours</th>\n",
       "      <td>378.0</td>\n",
       "      <td>2.272487</td>\n",
       "      <td>1.120030</td>\n",
       "      <td>1.0</td>\n",
       "      <td>1.0</td>\n",
       "      <td>2.0</td>\n",
       "      <td>3.0</td>\n",
       "      <td>5.0</td>\n",
       "    </tr>\n",
       "    <tr>\n",
       "      <th>AttendenceLecs</th>\n",
       "      <td>378.0</td>\n",
       "      <td>1.542328</td>\n",
       "      <td>0.573099</td>\n",
       "      <td>1.0</td>\n",
       "      <td>1.0</td>\n",
       "      <td>2.0</td>\n",
       "      <td>2.0</td>\n",
       "      <td>3.0</td>\n",
       "    </tr>\n",
       "    <tr>\n",
       "      <th>Concentrate</th>\n",
       "      <td>378.0</td>\n",
       "      <td>1.296296</td>\n",
       "      <td>0.561390</td>\n",
       "      <td>1.0</td>\n",
       "      <td>1.0</td>\n",
       "      <td>1.0</td>\n",
       "      <td>1.0</td>\n",
       "      <td>3.0</td>\n",
       "    </tr>\n",
       "    <tr>\n",
       "      <th>Friends</th>\n",
       "      <td>378.0</td>\n",
       "      <td>0.597884</td>\n",
       "      <td>0.490975</td>\n",
       "      <td>0.0</td>\n",
       "      <td>0.0</td>\n",
       "      <td>1.0</td>\n",
       "      <td>1.0</td>\n",
       "      <td>1.0</td>\n",
       "    </tr>\n",
       "    <tr>\n",
       "      <th>SocialMediaTime</th>\n",
       "      <td>378.0</td>\n",
       "      <td>2.568783</td>\n",
       "      <td>0.765142</td>\n",
       "      <td>1.0</td>\n",
       "      <td>2.0</td>\n",
       "      <td>3.0</td>\n",
       "      <td>3.0</td>\n",
       "      <td>4.0</td>\n",
       "    </tr>\n",
       "    <tr>\n",
       "      <th>extra curricular</th>\n",
       "      <td>378.0</td>\n",
       "      <td>0.584656</td>\n",
       "      <td>0.493434</td>\n",
       "      <td>0.0</td>\n",
       "      <td>0.0</td>\n",
       "      <td>1.0</td>\n",
       "      <td>1.0</td>\n",
       "      <td>1.0</td>\n",
       "    </tr>\n",
       "    <tr>\n",
       "      <th>StudyPattern</th>\n",
       "      <td>378.0</td>\n",
       "      <td>1.801587</td>\n",
       "      <td>0.399333</td>\n",
       "      <td>1.0</td>\n",
       "      <td>2.0</td>\n",
       "      <td>2.0</td>\n",
       "      <td>2.0</td>\n",
       "      <td>2.0</td>\n",
       "    </tr>\n",
       "    <tr>\n",
       "      <th>Rate yourself</th>\n",
       "      <td>378.0</td>\n",
       "      <td>2.679894</td>\n",
       "      <td>0.991030</td>\n",
       "      <td>1.0</td>\n",
       "      <td>2.0</td>\n",
       "      <td>3.0</td>\n",
       "      <td>3.0</td>\n",
       "      <td>4.0</td>\n",
       "    </tr>\n",
       "  </tbody>\n",
       "</table>\n",
       "</div>"
      ],
      "text/plain": [
       "                    count      mean       std  min  25%  50%  75%  max\n",
       "TravelMethod        378.0  0.544974  0.498633  0.0  0.0  1.0  1.0  1.0\n",
       "TravelTime          378.0  2.883598  1.071549  1.0  2.0  3.0  4.0  4.0\n",
       "PartTimeJob         378.0  0.431217  0.495903  0.0  0.0  0.0  1.0  1.0\n",
       "Relationship        378.0  0.417989  0.493882  0.0  0.0  0.0  1.0  1.0\n",
       "Father's_education  378.0  1.563492  0.593904  1.0  1.0  2.0  2.0  3.0\n",
       "Mother's_education  378.0  1.798942  0.676862  1.0  1.0  2.0  2.0  3.0\n",
       "StudyHours          378.0  2.272487  1.120030  1.0  1.0  2.0  3.0  5.0\n",
       "AttendenceLecs      378.0  1.542328  0.573099  1.0  1.0  2.0  2.0  3.0\n",
       "Concentrate         378.0  1.296296  0.561390  1.0  1.0  1.0  1.0  3.0\n",
       "Friends             378.0  0.597884  0.490975  0.0  0.0  1.0  1.0  1.0\n",
       "SocialMediaTime     378.0  2.568783  0.765142  1.0  2.0  3.0  3.0  4.0\n",
       "extra curricular    378.0  0.584656  0.493434  0.0  0.0  1.0  1.0  1.0\n",
       "StudyPattern        378.0  1.801587  0.399333  1.0  2.0  2.0  2.0  2.0\n",
       "Rate yourself       378.0  2.679894  0.991030  1.0  2.0  3.0  3.0  4.0"
      ]
     },
     "execution_count": 128,
     "metadata": {},
     "output_type": "execute_result"
    }
   ],
   "source": [
    "df.iloc[:,1:].describe().transpose()"
   ]
  },
  {
   "cell_type": "code",
   "execution_count": 129,
   "id": "1d77b079",
   "metadata": {},
   "outputs": [
    {
     "data": {
      "text/plain": [
       "<AxesSubplot:>"
      ]
     },
     "execution_count": 129,
     "metadata": {},
     "output_type": "execute_result"
    },
    {
     "data": {
      "image/png": "[encoded data removed]",
      "text/plain": [
       "<Figure size 640x480 with 2 Axes>"
      ]
     },
     "metadata": {},
     "output_type": "display_data"
    }
   ],
   "source": [
    "import seaborn as sns\n",
    "\n",
    "sns.heatmap(df.corr(),cmap = 'coolwarm')"
   ]
  },
  {
   "cell_type": "markdown",
   "id": "3e164099",
   "metadata": {},
   "source": [
    "## SMOTE"
   ]
  },
  {
   "cell_type": "code",
   "execution_count": 130,
   "id": "d3a67b60",
   "metadata": {},
   "outputs": [],
   "source": [
    "X = df.drop(\"Marks\",axis = 1)\n",
    "y = df[\"Marks\"]"
   ]
  },
  {
   "cell_type": "code",
   "execution_count": 131,
   "id": "ce7e3c68",
   "metadata": {},
   "outputs": [
    {
     "data": {
      "text/plain": [
       "((264, 15), (114, 15))"
      ]
     },
     "execution_count": 131,
     "metadata": {},
     "output_type": "execute_result"
    }
   ],
   "source": [
    "from sklearn.model_selection import train_test_split\n",
    "\n",
    "X_train, X_test, y_train, y_test = train_test_split(X , y , test_size = 0.3)\n",
    "\n",
    "X_train.shape, X_test.shape"
   ]
  },
  {
   "cell_type": "code",
   "execution_count": 132,
   "id": "e9d92dad",
   "metadata": {},
   "outputs": [],
   "source": [
    "from imblearn.over_sampling import SMOTE\n",
    "\n",
    "smote = SMOTE()\n",
    "\n",
    "X_train_smote, y_train_smote = smote.fit_resample(X_train,y_train)\n"
   ]
  },
  {
   "cell_type": "code",
   "execution_count": 133,
   "id": "3a75ef0a",
   "metadata": {},
   "outputs": [
    {
     "data": {
      "text/plain": [
       "<AxesSubplot:>"
      ]
     },
     "execution_count": 133,
     "metadata": {},
     "output_type": "execute_result"
    },
    {
     "data": {
      "image/png": "[encoded data removed]",
      "text/plain": [
       "<Figure size 640x480 with 1 Axes>"
      ]
     },
     "metadata": {},
     "output_type": "display_data"
    }
   ],
   "source": [
    "y_train_smote.value_counts().plot.bar()"
   ]
  },
  {
   "cell_type": "code",
   "execution_count": 134,
   "id": "af4271fe",
   "metadata": {},
   "outputs": [
    {
     "name": "stdout",
     "output_type": "stream",
     "text": [
      "Before SMOTE: Counter({'Fail': 87, '50 to 59': 33, '70 to 79': 31, '90 to 100': 30, '60 to 69': 30, '40 to 49': 27, '80 to 89': 26})\n",
      "\n",
      "\n",
      "After SMOTE:  Counter({'70 to 79': 87, 'Fail': 87, '90 to 100': 87, '60 to 69': 87, '80 to 89': 87, '40 to 49': 87, '50 to 59': 87})\n"
     ]
    }
   ],
   "source": [
    "from collections import Counter\n",
    "print(\"Before SMOTE:\", Counter(y_train))\n",
    "print(\"\\n\")\n",
    "print(\"After SMOTE: \", Counter(y_train_smote))"
   ]
  },
  {
   "cell_type": "code",
   "execution_count": 135,
   "id": "e8eeee9a",
   "metadata": {},
   "outputs": [
    {
     "data": {
      "text/plain": [
       "(609, 15)"
      ]
     },
     "execution_count": 135,
     "metadata": {},
     "output_type": "execute_result"
    }
   ],
   "source": [
    "X_train_smote.shape"
   ]
  },
  {
   "cell_type": "markdown",
   "id": "0544b339",
   "metadata": {},
   "source": [
    "## Decision Tree Classifier"
   ]
  },
  {
   "cell_type": "code",
   "execution_count": 136,
   "id": "00a2075c",
   "metadata": {},
   "outputs": [
    {
     "data": {
      "text/plain": [
       "array(['50 to 59', 'Fail', 'Fail', 'Fail', 'Fail', '90 to 100',\n",
       "       '60 to 69', '90 to 100', 'Fail', '60 to 69', '40 to 49', 'Fail',\n",
       "       '60 to 69', '90 to 100', '50 to 59', 'Fail', 'Fail', 'Fail',\n",
       "       '90 to 100', '90 to 100', '50 to 59', '40 to 49', '60 to 69',\n",
       "       'Fail', 'Fail', 'Fail', '70 to 79', 'Fail', 'Fail', '50 to 59',\n",
       "       '90 to 100', '60 to 69', '60 to 69', '60 to 69', '50 to 59',\n",
       "       '40 to 49', '40 to 49', '40 to 49', '40 to 49', '80 to 89',\n",
       "       '60 to 69', '70 to 79', '40 to 49', 'Fail', '50 to 59', '50 to 59',\n",
       "       'Fail', '80 to 89', '40 to 49', 'Fail', '90 to 100', 'Fail',\n",
       "       '70 to 79', 'Fail', 'Fail', 'Fail', '70 to 79', '70 to 79',\n",
       "       '90 to 100', 'Fail', '40 to 49', '90 to 100', 'Fail', '80 to 89',\n",
       "       'Fail', '60 to 69', '90 to 100', '60 to 69', 'Fail', '70 to 79',\n",
       "       'Fail', '60 to 69', '60 to 69', '50 to 59', 'Fail', '60 to 69',\n",
       "       '80 to 89', '60 to 69', '60 to 69', 'Fail', '60 to 69', '40 to 49',\n",
       "       '60 to 69', '60 to 69', 'Fail', '40 to 49', '90 to 100',\n",
       "       '90 to 100', '60 to 69', 'Fail', '70 to 79', '40 to 49',\n",
       "       '60 to 69', 'Fail', '40 to 49', '90 to 100', '90 to 100',\n",
       "       '70 to 79', '40 to 49', 'Fail', 'Fail', '40 to 49', '40 to 49',\n",
       "       '50 to 59', '90 to 100', 'Fail', 'Fail', 'Fail', '50 to 59',\n",
       "       'Fail', '40 to 49', 'Fail', '60 to 69', 'Fail'], dtype=object)"
      ]
     },
     "execution_count": 136,
     "metadata": {},
     "output_type": "execute_result"
    }
   ],
   "source": [
    "from sklearn.tree import DecisionTreeClassifier\n",
    "\n",
    "decisionModel = DecisionTreeClassifier()\n",
    "decisionModel.fit(X_train_smote,y_train_smote)\n",
    "\n",
    "decisionPred = decisionModel.predict(X_test)\n",
    "\n",
    "decisionPred"
   ]
  },
  {
   "cell_type": "code",
   "execution_count": 137,
   "id": "74c8edb2",
   "metadata": {},
   "outputs": [
    {
     "data": {
      "text/plain": [
       "0.7982456140350878"
      ]
     },
     "execution_count": 137,
     "metadata": {},
     "output_type": "execute_result"
    }
   ],
   "source": [
    "#Accuracy of decision tree model\n",
    "accuracy_score(y_test,decisionPred)"
   ]
  },
  {
   "cell_type": "code",
   "execution_count": 138,
   "id": "28468662",
   "metadata": {},
   "outputs": [
    {
     "data": {
      "text/html": [
       "<div>\n",
       "<style scoped>\n",
       "    .dataframe tbody tr th:only-of-type {\n",
       "        vertical-align: middle;\n",
       "    }\n",
       "\n",
       "    .dataframe tbody tr th {\n",
       "        vertical-align: top;\n",
       "    }\n",
       "\n",
       "    .dataframe thead th {\n",
       "        text-align: right;\n",
       "    }\n",
       "</style>\n",
       "<table border=\"1\" class=\"dataframe\">\n",
       "  <thead>\n",
       "    <tr style=\"text-align: right;\">\n",
       "      <th>col_0</th>\n",
       "      <th>40 to 49</th>\n",
       "      <th>50 to 59</th>\n",
       "      <th>60 to 69</th>\n",
       "      <th>70 to 79</th>\n",
       "      <th>80 to 89</th>\n",
       "      <th>90 to 100</th>\n",
       "      <th>Fail</th>\n",
       "    </tr>\n",
       "    <tr>\n",
       "      <th>Marks</th>\n",
       "      <th></th>\n",
       "      <th></th>\n",
       "      <th></th>\n",
       "      <th></th>\n",
       "      <th></th>\n",
       "      <th></th>\n",
       "      <th></th>\n",
       "    </tr>\n",
       "  </thead>\n",
       "  <tbody>\n",
       "    <tr>\n",
       "      <th>40 to 49</th>\n",
       "      <td>15</td>\n",
       "      <td>0</td>\n",
       "      <td>0</td>\n",
       "      <td>0</td>\n",
       "      <td>0</td>\n",
       "      <td>0</td>\n",
       "      <td>0</td>\n",
       "    </tr>\n",
       "    <tr>\n",
       "      <th>50 to 59</th>\n",
       "      <td>0</td>\n",
       "      <td>9</td>\n",
       "      <td>0</td>\n",
       "      <td>0</td>\n",
       "      <td>0</td>\n",
       "      <td>0</td>\n",
       "      <td>0</td>\n",
       "    </tr>\n",
       "    <tr>\n",
       "      <th>60 to 69</th>\n",
       "      <td>0</td>\n",
       "      <td>0</td>\n",
       "      <td>11</td>\n",
       "      <td>1</td>\n",
       "      <td>0</td>\n",
       "      <td>0</td>\n",
       "      <td>0</td>\n",
       "    </tr>\n",
       "    <tr>\n",
       "      <th>70 to 79</th>\n",
       "      <td>0</td>\n",
       "      <td>0</td>\n",
       "      <td>6</td>\n",
       "      <td>3</td>\n",
       "      <td>2</td>\n",
       "      <td>0</td>\n",
       "      <td>0</td>\n",
       "    </tr>\n",
       "    <tr>\n",
       "      <th>80 to 89</th>\n",
       "      <td>2</td>\n",
       "      <td>1</td>\n",
       "      <td>4</td>\n",
       "      <td>4</td>\n",
       "      <td>2</td>\n",
       "      <td>3</td>\n",
       "      <td>0</td>\n",
       "    </tr>\n",
       "    <tr>\n",
       "      <th>90 to 100</th>\n",
       "      <td>0</td>\n",
       "      <td>0</td>\n",
       "      <td>0</td>\n",
       "      <td>0</td>\n",
       "      <td>0</td>\n",
       "      <td>12</td>\n",
       "      <td>0</td>\n",
       "    </tr>\n",
       "    <tr>\n",
       "      <th>Fail</th>\n",
       "      <td>0</td>\n",
       "      <td>0</td>\n",
       "      <td>0</td>\n",
       "      <td>0</td>\n",
       "      <td>0</td>\n",
       "      <td>0</td>\n",
       "      <td>39</td>\n",
       "    </tr>\n",
       "  </tbody>\n",
       "</table>\n",
       "</div>"
      ],
      "text/plain": [
       "col_0      40 to 49  50 to 59  60 to 69  70 to 79  80 to 89  90 to 100  Fail\n",
       "Marks                                                                       \n",
       "40 to 49         15         0         0         0         0          0     0\n",
       "50 to 59          0         9         0         0         0          0     0\n",
       "60 to 69          0         0        11         1         0          0     0\n",
       "70 to 79          0         0         6         3         2          0     0\n",
       "80 to 89          2         1         4         4         2          3     0\n",
       "90 to 100         0         0         0         0         0         12     0\n",
       "Fail              0         0         0         0         0          0    39"
      ]
     },
     "execution_count": 138,
     "metadata": {},
     "output_type": "execute_result"
    }
   ],
   "source": [
    "pd.crosstab(y_test,decisionPred)"
   ]
  },
  {
   "cell_type": "markdown",
   "id": "bef5482f",
   "metadata": {},
   "source": [
    "## Random Forest Classifier"
   ]
  },
  {
   "cell_type": "code",
   "execution_count": 139,
   "id": "77a22e7a",
   "metadata": {},
   "outputs": [
    {
     "data": {
      "text/plain": [
       "array(['70 to 79', 'Fail', 'Fail', 'Fail', 'Fail', '90 to 100',\n",
       "       '60 to 69', '90 to 100', 'Fail', '70 to 79', '40 to 49', 'Fail',\n",
       "       '60 to 69', '90 to 100', '50 to 59', 'Fail', 'Fail', 'Fail',\n",
       "       '90 to 100', '90 to 100', '50 to 59', '40 to 49', '70 to 79',\n",
       "       'Fail', 'Fail', 'Fail', '70 to 79', 'Fail', 'Fail', '50 to 59',\n",
       "       '90 to 100', '70 to 79', '60 to 69', '70 to 79', '50 to 59',\n",
       "       '40 to 49', '40 to 49', '40 to 49', '40 to 49', '60 to 69',\n",
       "       '60 to 69', '70 to 79', '40 to 49', 'Fail', '50 to 59', '50 to 59',\n",
       "       'Fail', '70 to 79', '40 to 49', 'Fail', '90 to 100', 'Fail',\n",
       "       '60 to 69', 'Fail', 'Fail', 'Fail', 'Fail', '70 to 79',\n",
       "       '90 to 100', 'Fail', '40 to 49', '90 to 100', 'Fail', '70 to 79',\n",
       "       'Fail', '60 to 69', '90 to 100', '60 to 69', 'Fail', '70 to 79',\n",
       "       'Fail', '60 to 69', '60 to 69', '50 to 59', 'Fail', '60 to 69',\n",
       "       '80 to 89', '70 to 79', '70 to 79', 'Fail', '70 to 79', '40 to 49',\n",
       "       '60 to 69', '60 to 69', 'Fail', '40 to 49', '90 to 100',\n",
       "       '90 to 100', '70 to 79', 'Fail', '70 to 79', '40 to 49',\n",
       "       '60 to 69', 'Fail', '40 to 49', '90 to 100', '80 to 89',\n",
       "       '70 to 79', '40 to 49', 'Fail', 'Fail', '40 to 49', '40 to 49',\n",
       "       '50 to 59', '90 to 100', 'Fail', 'Fail', 'Fail', '50 to 59',\n",
       "       'Fail', '40 to 49', 'Fail', '70 to 79', 'Fail'], dtype=object)"
      ]
     },
     "execution_count": 139,
     "metadata": {},
     "output_type": "execute_result"
    }
   ],
   "source": [
    "from sklearn.ensemble import RandomForestClassifier\n",
    "\n",
    "randForestModel = RandomForestClassifier()\n",
    "randForestModel.fit(X_train_smote, y_train_smote)\n",
    "\n",
    "randForestPred = randForestModel.predict(X_test)\n",
    "randForestPred"
   ]
  },
  {
   "cell_type": "code",
   "execution_count": 140,
   "id": "aef56478",
   "metadata": {},
   "outputs": [
    {
     "data": {
      "text/plain": [
       "0.8245614035087719"
      ]
     },
     "execution_count": 140,
     "metadata": {},
     "output_type": "execute_result"
    }
   ],
   "source": [
    "#Accuracy of decision tree model\n",
    "accuracy_score(y_test,randForestPred)"
   ]
  },
  {
   "cell_type": "code",
   "execution_count": 141,
   "id": "4b6d74bb",
   "metadata": {},
   "outputs": [
    {
     "data": {
      "text/html": [
       "<div>\n",
       "<style scoped>\n",
       "    .dataframe tbody tr th:only-of-type {\n",
       "        vertical-align: middle;\n",
       "    }\n",
       "\n",
       "    .dataframe tbody tr th {\n",
       "        vertical-align: top;\n",
       "    }\n",
       "\n",
       "    .dataframe thead th {\n",
       "        text-align: right;\n",
       "    }\n",
       "</style>\n",
       "<table border=\"1\" class=\"dataframe\">\n",
       "  <thead>\n",
       "    <tr style=\"text-align: right;\">\n",
       "      <th>col_0</th>\n",
       "      <th>40 to 49</th>\n",
       "      <th>50 to 59</th>\n",
       "      <th>60 to 69</th>\n",
       "      <th>70 to 79</th>\n",
       "      <th>80 to 89</th>\n",
       "      <th>90 to 100</th>\n",
       "      <th>Fail</th>\n",
       "    </tr>\n",
       "    <tr>\n",
       "      <th>Marks</th>\n",
       "      <th></th>\n",
       "      <th></th>\n",
       "      <th></th>\n",
       "      <th></th>\n",
       "      <th></th>\n",
       "      <th></th>\n",
       "      <th></th>\n",
       "    </tr>\n",
       "  </thead>\n",
       "  <tbody>\n",
       "    <tr>\n",
       "      <th>40 to 49</th>\n",
       "      <td>15</td>\n",
       "      <td>0</td>\n",
       "      <td>0</td>\n",
       "      <td>0</td>\n",
       "      <td>0</td>\n",
       "      <td>0</td>\n",
       "      <td>0</td>\n",
       "    </tr>\n",
       "    <tr>\n",
       "      <th>50 to 59</th>\n",
       "      <td>0</td>\n",
       "      <td>9</td>\n",
       "      <td>0</td>\n",
       "      <td>0</td>\n",
       "      <td>0</td>\n",
       "      <td>0</td>\n",
       "      <td>0</td>\n",
       "    </tr>\n",
       "    <tr>\n",
       "      <th>60 to 69</th>\n",
       "      <td>0</td>\n",
       "      <td>0</td>\n",
       "      <td>10</td>\n",
       "      <td>1</td>\n",
       "      <td>0</td>\n",
       "      <td>0</td>\n",
       "      <td>1</td>\n",
       "    </tr>\n",
       "    <tr>\n",
       "      <th>70 to 79</th>\n",
       "      <td>0</td>\n",
       "      <td>0</td>\n",
       "      <td>2</td>\n",
       "      <td>8</td>\n",
       "      <td>1</td>\n",
       "      <td>0</td>\n",
       "      <td>0</td>\n",
       "    </tr>\n",
       "    <tr>\n",
       "      <th>80 to 89</th>\n",
       "      <td>2</td>\n",
       "      <td>0</td>\n",
       "      <td>2</td>\n",
       "      <td>9</td>\n",
       "      <td>1</td>\n",
       "      <td>2</td>\n",
       "      <td>0</td>\n",
       "    </tr>\n",
       "    <tr>\n",
       "      <th>90 to 100</th>\n",
       "      <td>0</td>\n",
       "      <td>0</td>\n",
       "      <td>0</td>\n",
       "      <td>0</td>\n",
       "      <td>0</td>\n",
       "      <td>12</td>\n",
       "      <td>0</td>\n",
       "    </tr>\n",
       "    <tr>\n",
       "      <th>Fail</th>\n",
       "      <td>0</td>\n",
       "      <td>0</td>\n",
       "      <td>0</td>\n",
       "      <td>0</td>\n",
       "      <td>0</td>\n",
       "      <td>0</td>\n",
       "      <td>39</td>\n",
       "    </tr>\n",
       "  </tbody>\n",
       "</table>\n",
       "</div>"
      ],
      "text/plain": [
       "col_0      40 to 49  50 to 59  60 to 69  70 to 79  80 to 89  90 to 100  Fail\n",
       "Marks                                                                       \n",
       "40 to 49         15         0         0         0         0          0     0\n",
       "50 to 59          0         9         0         0         0          0     0\n",
       "60 to 69          0         0        10         1         0          0     1\n",
       "70 to 79          0         0         2         8         1          0     0\n",
       "80 to 89          2         0         2         9         1          2     0\n",
       "90 to 100         0         0         0         0         0         12     0\n",
       "Fail              0         0         0         0         0          0    39"
      ]
     },
     "execution_count": 141,
     "metadata": {},
     "output_type": "execute_result"
    }
   ],
   "source": [
    "pd.crosstab(y_test,randForestPred)"
   ]
  },
  {
   "cell_type": "markdown",
   "id": "2e55af55",
   "metadata": {},
   "source": [
    "## Support vector machine Classifier"
   ]
  },
  {
   "cell_type": "code",
   "execution_count": 142,
   "id": "b1432877",
   "metadata": {},
   "outputs": [
    {
     "data": {
      "text/plain": [
       "array(['70 to 79', 'Fail', 'Fail', 'Fail', 'Fail', '90 to 100',\n",
       "       '60 to 69', '90 to 100', 'Fail', '70 to 79', '40 to 49', 'Fail',\n",
       "       '80 to 89', '90 to 100', '50 to 59', 'Fail', 'Fail', '40 to 49',\n",
       "       '90 to 100', '90 to 100', '50 to 59', '40 to 49', '70 to 79',\n",
       "       'Fail', 'Fail', 'Fail', '70 to 79', 'Fail', 'Fail', '50 to 59',\n",
       "       '90 to 100', '70 to 79', '60 to 69', '70 to 79', '50 to 59',\n",
       "       '40 to 49', '40 to 49', '40 to 49', '60 to 69', '60 to 69',\n",
       "       '50 to 59', '70 to 79', '40 to 49', 'Fail', '50 to 59', '50 to 59',\n",
       "       'Fail', '70 to 79', '40 to 49', 'Fail', '90 to 100', 'Fail',\n",
       "       '60 to 69', 'Fail', 'Fail', 'Fail', 'Fail', '70 to 79',\n",
       "       '90 to 100', 'Fail', '40 to 49', '90 to 100', 'Fail', '60 to 69',\n",
       "       'Fail', '60 to 69', '90 to 100', '60 to 69', 'Fail', '70 to 79',\n",
       "       'Fail', '50 to 59', '60 to 69', '50 to 59', 'Fail', '60 to 69',\n",
       "       '80 to 89', '70 to 79', '70 to 79', 'Fail', '80 to 89', '40 to 49',\n",
       "       '60 to 69', '60 to 69', 'Fail', '40 to 49', '90 to 100',\n",
       "       '90 to 100', '60 to 69', '50 to 59', '70 to 79', '40 to 49',\n",
       "       '70 to 79', 'Fail', '40 to 49', '90 to 100', '80 to 89',\n",
       "       '70 to 79', '40 to 49', 'Fail', 'Fail', '40 to 49', '60 to 69',\n",
       "       '50 to 59', '80 to 89', 'Fail', 'Fail', '50 to 59', '50 to 59',\n",
       "       '50 to 59', '40 to 49', 'Fail', 'Fail', '40 to 49'], dtype=object)"
      ]
     },
     "execution_count": 142,
     "metadata": {},
     "output_type": "execute_result"
    }
   ],
   "source": [
    "from sklearn import svm\n",
    "\n",
    "svm_model= svm.SVC(decision_function_shape='ovo')\n",
    "svm_model.fit(X_train_smote, y_train_smote)\n",
    "\n",
    "svm_pred = svm_model.predict(X_test)\n",
    "svm_pred"
   ]
  },
  {
   "cell_type": "code",
   "execution_count": 143,
   "id": "d8200167",
   "metadata": {},
   "outputs": [
    {
     "data": {
      "text/plain": [
       "0.7280701754385965"
      ]
     },
     "execution_count": 143,
     "metadata": {},
     "output_type": "execute_result"
    }
   ],
   "source": [
    "accuracy_score(y_test,svm_pred)"
   ]
  },
  {
   "cell_type": "code",
   "execution_count": 144,
   "id": "3e29fac1",
   "metadata": {},
   "outputs": [
    {
     "data": {
      "text/html": [
       "<div>\n",
       "<style scoped>\n",
       "    .dataframe tbody tr th:only-of-type {\n",
       "        vertical-align: middle;\n",
       "    }\n",
       "\n",
       "    .dataframe tbody tr th {\n",
       "        vertical-align: top;\n",
       "    }\n",
       "\n",
       "    .dataframe thead th {\n",
       "        text-align: right;\n",
       "    }\n",
       "</style>\n",
       "<table border=\"1\" class=\"dataframe\">\n",
       "  <thead>\n",
       "    <tr style=\"text-align: right;\">\n",
       "      <th>col_0</th>\n",
       "      <th>40 to 49</th>\n",
       "      <th>50 to 59</th>\n",
       "      <th>60 to 69</th>\n",
       "      <th>70 to 79</th>\n",
       "      <th>80 to 89</th>\n",
       "      <th>90 to 100</th>\n",
       "      <th>Fail</th>\n",
       "    </tr>\n",
       "    <tr>\n",
       "      <th>Marks</th>\n",
       "      <th></th>\n",
       "      <th></th>\n",
       "      <th></th>\n",
       "      <th></th>\n",
       "      <th></th>\n",
       "      <th></th>\n",
       "      <th></th>\n",
       "    </tr>\n",
       "  </thead>\n",
       "  <tbody>\n",
       "    <tr>\n",
       "      <th>40 to 49</th>\n",
       "      <td>15</td>\n",
       "      <td>0</td>\n",
       "      <td>0</td>\n",
       "      <td>0</td>\n",
       "      <td>0</td>\n",
       "      <td>0</td>\n",
       "      <td>0</td>\n",
       "    </tr>\n",
       "    <tr>\n",
       "      <th>50 to 59</th>\n",
       "      <td>0</td>\n",
       "      <td>9</td>\n",
       "      <td>0</td>\n",
       "      <td>0</td>\n",
       "      <td>0</td>\n",
       "      <td>0</td>\n",
       "      <td>0</td>\n",
       "    </tr>\n",
       "    <tr>\n",
       "      <th>60 to 69</th>\n",
       "      <td>0</td>\n",
       "      <td>1</td>\n",
       "      <td>7</td>\n",
       "      <td>1</td>\n",
       "      <td>1</td>\n",
       "      <td>0</td>\n",
       "      <td>2</td>\n",
       "    </tr>\n",
       "    <tr>\n",
       "      <th>70 to 79</th>\n",
       "      <td>0</td>\n",
       "      <td>1</td>\n",
       "      <td>2</td>\n",
       "      <td>6</td>\n",
       "      <td>2</td>\n",
       "      <td>0</td>\n",
       "      <td>0</td>\n",
       "    </tr>\n",
       "    <tr>\n",
       "      <th>80 to 89</th>\n",
       "      <td>0</td>\n",
       "      <td>0</td>\n",
       "      <td>5</td>\n",
       "      <td>8</td>\n",
       "      <td>1</td>\n",
       "      <td>2</td>\n",
       "      <td>0</td>\n",
       "    </tr>\n",
       "    <tr>\n",
       "      <th>90 to 100</th>\n",
       "      <td>0</td>\n",
       "      <td>0</td>\n",
       "      <td>0</td>\n",
       "      <td>0</td>\n",
       "      <td>1</td>\n",
       "      <td>11</td>\n",
       "      <td>0</td>\n",
       "    </tr>\n",
       "    <tr>\n",
       "      <th>Fail</th>\n",
       "      <td>2</td>\n",
       "      <td>3</td>\n",
       "      <td>0</td>\n",
       "      <td>0</td>\n",
       "      <td>0</td>\n",
       "      <td>0</td>\n",
       "      <td>34</td>\n",
       "    </tr>\n",
       "  </tbody>\n",
       "</table>\n",
       "</div>"
      ],
      "text/plain": [
       "col_0      40 to 49  50 to 59  60 to 69  70 to 79  80 to 89  90 to 100  Fail\n",
       "Marks                                                                       \n",
       "40 to 49         15         0         0         0         0          0     0\n",
       "50 to 59          0         9         0         0         0          0     0\n",
       "60 to 69          0         1         7         1         1          0     2\n",
       "70 to 79          0         1         2         6         2          0     0\n",
       "80 to 89          0         0         5         8         1          2     0\n",
       "90 to 100         0         0         0         0         1         11     0\n",
       "Fail              2         3         0         0         0          0    34"
      ]
     },
     "execution_count": 144,
     "metadata": {},
     "output_type": "execute_result"
    }
   ],
   "source": [
    "pd.crosstab(y_test,svm_pred)"
   ]
  },
  {
   "cell_type": "code",
   "execution_count": 145,
   "id": "13c22a68",
   "metadata": {},
   "outputs": [
    {
     "data": {
      "text/plain": [
       "array(['70 to 79', 'Fail', 'Fail', 'Fail', 'Fail', '90 to 100',\n",
       "       '60 to 69', '90 to 100', 'Fail', '70 to 79', '40 to 49', 'Fail',\n",
       "       '60 to 69', '90 to 100', '50 to 59', 'Fail', 'Fail', 'Fail',\n",
       "       '90 to 100', '90 to 100', '50 to 59', '40 to 49', '70 to 79',\n",
       "       'Fail', 'Fail', 'Fail', '70 to 79', 'Fail', 'Fail', '50 to 59',\n",
       "       '90 to 100', '70 to 79', '60 to 69', '70 to 79', '50 to 59',\n",
       "       '40 to 49', '40 to 49', '40 to 49', '40 to 49', '60 to 69',\n",
       "       '60 to 69', '70 to 79', '40 to 49', 'Fail', '50 to 59', '50 to 59',\n",
       "       'Fail', '60 to 69', '40 to 49', 'Fail', '90 to 100', 'Fail',\n",
       "       '60 to 69', 'Fail', 'Fail', 'Fail', 'Fail', '70 to 79',\n",
       "       '90 to 100', 'Fail', '40 to 49', '90 to 100', 'Fail', '60 to 69',\n",
       "       'Fail', '60 to 69', '90 to 100', '60 to 69', 'Fail', '70 to 79',\n",
       "       'Fail', '60 to 69', '60 to 69', '50 to 59', 'Fail', '60 to 69',\n",
       "       '80 to 89', '70 to 79', '70 to 79', 'Fail', '70 to 79', '40 to 49',\n",
       "       '60 to 69', '60 to 69', 'Fail', '40 to 49', '90 to 100',\n",
       "       '90 to 100', '70 to 79', 'Fail', '70 to 79', '40 to 49',\n",
       "       '60 to 69', 'Fail', '40 to 49', '90 to 100', '80 to 89',\n",
       "       '70 to 79', '40 to 49', 'Fail', 'Fail', '40 to 49', '40 to 49',\n",
       "       '50 to 59', '90 to 100', 'Fail', 'Fail', 'Fail', '50 to 59',\n",
       "       'Fail', '40 to 49', 'Fail', '70 to 79', 'Fail'], dtype=object)"
      ]
     },
     "execution_count": 145,
     "metadata": {},
     "output_type": "execute_result"
    }
   ],
   "source": [
    "from sklearn.ensemble import StackingClassifier\n",
    "from sklearn.linear_model import LogisticRegression\n",
    "from sklearn.pipeline import make_pipeline\n",
    "from sklearn.preprocessing import StandardScaler\n",
    "\n",
    "\n",
    "estimators_list = [('model1',decisionModel),('model2',randForestModel),('model3',svm_model)]\n",
    "\n",
    "pipe = make_pipeline(StandardScaler(), StackingClassifier(estimators = estimators_list, final_estimator = LogisticRegression(max_iter=2000)))\n",
    "                     \n",
    "pipe.fit(X_train_smote, y_train_smote)\n",
    "\n",
    "stackPred = pipe.predict(X_test)\n",
    "\n",
    "stackPred\n"
   ]
  },
  {
   "cell_type": "code",
   "execution_count": 146,
   "id": "12e2e9cc",
   "metadata": {},
   "outputs": [
    {
     "data": {
      "text/plain": [
       "0.8157894736842105"
      ]
     },
     "execution_count": 146,
     "metadata": {},
     "output_type": "execute_result"
    }
   ],
   "source": [
    "accuracy_score(y_test,stackPred)"
   ]
  },
  {
   "cell_type": "code",
   "execution_count": 147,
   "id": "7c32457c",
   "metadata": {},
   "outputs": [
    {
     "data": {
      "text/html": [
       "<div>\n",
       "<style scoped>\n",
       "    .dataframe tbody tr th:only-of-type {\n",
       "        vertical-align: middle;\n",
       "    }\n",
       "\n",
       "    .dataframe tbody tr th {\n",
       "        vertical-align: top;\n",
       "    }\n",
       "\n",
       "    .dataframe thead th {\n",
       "        text-align: right;\n",
       "    }\n",
       "</style>\n",
       "<table border=\"1\" class=\"dataframe\">\n",
       "  <thead>\n",
       "    <tr style=\"text-align: right;\">\n",
       "      <th>col_0</th>\n",
       "      <th>40 to 49</th>\n",
       "      <th>50 to 59</th>\n",
       "      <th>60 to 69</th>\n",
       "      <th>70 to 79</th>\n",
       "      <th>80 to 89</th>\n",
       "      <th>90 to 100</th>\n",
       "      <th>Fail</th>\n",
       "    </tr>\n",
       "    <tr>\n",
       "      <th>Marks</th>\n",
       "      <th></th>\n",
       "      <th></th>\n",
       "      <th></th>\n",
       "      <th></th>\n",
       "      <th></th>\n",
       "      <th></th>\n",
       "      <th></th>\n",
       "    </tr>\n",
       "  </thead>\n",
       "  <tbody>\n",
       "    <tr>\n",
       "      <th>40 to 49</th>\n",
       "      <td>15</td>\n",
       "      <td>0</td>\n",
       "      <td>0</td>\n",
       "      <td>0</td>\n",
       "      <td>0</td>\n",
       "      <td>0</td>\n",
       "      <td>0</td>\n",
       "    </tr>\n",
       "    <tr>\n",
       "      <th>50 to 59</th>\n",
       "      <td>0</td>\n",
       "      <td>9</td>\n",
       "      <td>0</td>\n",
       "      <td>0</td>\n",
       "      <td>0</td>\n",
       "      <td>0</td>\n",
       "      <td>0</td>\n",
       "    </tr>\n",
       "    <tr>\n",
       "      <th>60 to 69</th>\n",
       "      <td>0</td>\n",
       "      <td>0</td>\n",
       "      <td>10</td>\n",
       "      <td>1</td>\n",
       "      <td>0</td>\n",
       "      <td>0</td>\n",
       "      <td>1</td>\n",
       "    </tr>\n",
       "    <tr>\n",
       "      <th>70 to 79</th>\n",
       "      <td>0</td>\n",
       "      <td>0</td>\n",
       "      <td>3</td>\n",
       "      <td>7</td>\n",
       "      <td>1</td>\n",
       "      <td>0</td>\n",
       "      <td>0</td>\n",
       "    </tr>\n",
       "    <tr>\n",
       "      <th>80 to 89</th>\n",
       "      <td>2</td>\n",
       "      <td>0</td>\n",
       "      <td>3</td>\n",
       "      <td>8</td>\n",
       "      <td>1</td>\n",
       "      <td>2</td>\n",
       "      <td>0</td>\n",
       "    </tr>\n",
       "    <tr>\n",
       "      <th>90 to 100</th>\n",
       "      <td>0</td>\n",
       "      <td>0</td>\n",
       "      <td>0</td>\n",
       "      <td>0</td>\n",
       "      <td>0</td>\n",
       "      <td>12</td>\n",
       "      <td>0</td>\n",
       "    </tr>\n",
       "    <tr>\n",
       "      <th>Fail</th>\n",
       "      <td>0</td>\n",
       "      <td>0</td>\n",
       "      <td>0</td>\n",
       "      <td>0</td>\n",
       "      <td>0</td>\n",
       "      <td>0</td>\n",
       "      <td>39</td>\n",
       "    </tr>\n",
       "  </tbody>\n",
       "</table>\n",
       "</div>"
      ],
      "text/plain": [
       "col_0      40 to 49  50 to 59  60 to 69  70 to 79  80 to 89  90 to 100  Fail\n",
       "Marks                                                                       \n",
       "40 to 49         15         0         0         0         0          0     0\n",
       "50 to 59          0         9         0         0         0          0     0\n",
       "60 to 69          0         0        10         1         0          0     1\n",
       "70 to 79          0         0         3         7         1          0     0\n",
       "80 to 89          2         0         3         8         1          2     0\n",
       "90 to 100         0         0         0         0         0         12     0\n",
       "Fail              0         0         0         0         0          0    39"
      ]
     },
     "execution_count": 147,
     "metadata": {},
     "output_type": "execute_result"
    }
   ],
   "source": [
    "pd.crosstab(y_test,stackPred)"
   ]
  },
  {
   "cell_type": "markdown",
   "id": "1fd1949c",
   "metadata": {},
   "source": [
    "## Cross Validation"
   ]
  },
  {
   "cell_type": "code",
   "execution_count": 148,
   "id": "682bd622",
   "metadata": {},
   "outputs": [
    {
     "data": {
      "text/plain": [
       "StratifiedKFold(n_splits=10, random_state=None, shuffle=False)"
      ]
     },
     "execution_count": 148,
     "metadata": {},
     "output_type": "execute_result"
    }
   ],
   "source": [
    "from sklearn.model_selection import StratifiedKFold\n",
    "#10 folds\n",
    "kf = StratifiedKFold(n_splits= 10)\n",
    "kf"
   ]
  },
  {
   "cell_type": "code",
   "execution_count": 149,
   "id": "e6a7e68d",
   "metadata": {},
   "outputs": [],
   "source": [
    "def get_score(model, X_train, X_test, y_train, y_test):\n",
    "    model.fit(X_train, y_train)\n",
    "    return model.score(X_test,y_test)"
   ]
  },
  {
   "cell_type": "code",
   "execution_count": 150,
   "id": "d3690034",
   "metadata": {},
   "outputs": [],
   "source": [
    "scores_model = []\n",
    "\n",
    "X = df.drop(\"Marks\",axis = 1)\n",
    "y = df[\"Marks\"]\n",
    "\n",
    "X_smote,y_smote = smote.fit_resample(X,y)\n",
    "\n",
    "for train_index, test_index in kf.split(X_smote,y_smote):\n",
    "    X_train, X_test, y_train, y_test = X_smote.iloc[train_index], X_smote.iloc[test_index], y_smote.iloc[train_index], y_smote.loc[test_index]\n",
    "    scores_model.append(get_score(pipe, X_train, X_test, y_train, y_test))\n"
   ]
  },
  {
   "cell_type": "code",
   "execution_count": 151,
   "id": "6f807081",
   "metadata": {},
   "outputs": [
    {
     "data": {
      "text/plain": [
       "[0.8876404494382022,\n",
       " 0.9101123595505618,\n",
       " 0.9431818181818182,\n",
       " 0.9545454545454546,\n",
       " 0.9772727272727273,\n",
       " 0.9772727272727273,\n",
       " 0.9090909090909091,\n",
       " 0.9659090909090909,\n",
       " 0.9659090909090909,\n",
       " 0.9886363636363636]"
      ]
     },
     "execution_count": 151,
     "metadata": {},
     "output_type": "execute_result"
    }
   ],
   "source": [
    "scores_model"
   ]
  },
  {
   "cell_type": "code",
   "execution_count": null,
   "id": "cb781ad5",
   "metadata": {},
   "outputs": [],
   "source": []
  }
 ],
 "metadata": {
  "kernelspec": {
   "display_name": "Python 3 (ipykernel)",
   "language": "python",
   "name": "python3"
  },
  "language_info": {
   "codemirror_mode": {
    "name": "ipython",
    "version": 3
   },
   "file_extension": ".py",
   "mimetype": "text/x-python",
   "name": "python",
   "nbconvert_exporter": "python",
   "pygments_lexer": "ipython3",
   "version": "3.9.13"
  }
 },
 "nbformat": 4,
 "nbformat_minor": 5
}
